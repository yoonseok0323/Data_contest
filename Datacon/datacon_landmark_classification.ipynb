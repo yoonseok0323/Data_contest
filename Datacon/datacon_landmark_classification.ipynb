{
  "nbformat": 4,
  "nbformat_minor": 0,
  "metadata": {
    "colab": {
      "name": "datacon_landmark_classification.ipynb",
      "provenance": [],
      "collapsed_sections": []
    },
    "kernelspec": {
      "name": "python3",
      "display_name": "Python 3"
    },
    "language_info": {
      "name": "python"
    },
    "accelerator": "GPU",
    "gpuClass": "standard"
  },
  "cells": [
    {
      "cell_type": "code",
      "execution_count": null,
      "metadata": {
        "id": "uRdUfyLdxd9Z"
      },
      "outputs": [],
      "source": [
        "import tensorflow as tf\n",
        "import numpy as np\n",
        "import pandas as pd\n",
        "pd.options.display.float_format = '{:.5f}'.format\n",
        "\n",
        "import copy\n",
        "import cv2\n",
        "import os\n",
        "import math\n",
        "import scipy as sp\n",
        "import PIL\n",
        "\n",
        "# Tensorflow\n",
        "import tensorflow as tf\n",
        "from tensorflow.keras import models, layers, Model\n",
        "from tensorflow.keras.models import Sequential, load_model\n",
        "from tensorflow.keras.layers import Conv2D, MaxPooling2D\n",
        "from tensorflow.keras.layers import Dense, Dropout, Flatten, GlobalAveragePooling2D\n",
        "from tensorflow.keras.layers import Flatten, Dense, Dropout, ZeroPadding2D\n",
        "\n",
        "from tensorflow.keras.preprocessing.image import ImageDataGenerator\n",
        "from tensorflow.keras.callbacks import ModelCheckpoint, TensorBoard, ReduceLROnPlateau\n",
        "from tensorflow.keras import optimizers\n",
        "from tensorflow.keras.optimizers import SGD\n",
        "from tensorflow.keras.models import Model\n",
        "from tensorflow.keras.preprocessing import image\n",
        "from tensorflow.keras.applications import EfficientNetB4, EfficientNetB6, ResNet50V2\n",
        "#from keras_tuner.tuners import RandomSearch\n",
        "\n",
        "# import scikitplot as skplt\n",
        "# from sklearn.metrics import roc_auc_score\n",
        "# import matplotlib.pyplot as plt\n",
        "\n",
        "# # split dataset\n",
        "# import splitfolders\n",
        "\n",
        "# ignore warnings\n",
        "import warnings\n",
        "warnings.filterwarnings(action='ignore')"
      ]
    },
    {
      "cell_type": "code",
      "source": [
        "df = pd.read_csv('/content/drive/MyDrive/Colab Notebooks/Mini_Projects/dataset/train.csv')\n",
        "df"
      ],
      "metadata": {
        "colab": {
          "base_uri": "https://localhost:8080/",
          "height": 424
        },
        "id": "yYW6Smsvxw1E",
        "outputId": "d1500b8e-2322-4095-8536-710c4cd587d5"
      },
      "execution_count": null,
      "outputs": [
        {
          "output_type": "execute_result",
          "data": {
            "text/plain": [
              "    file_name  label\n",
              "0     001.PNG      9\n",
              "1     002.PNG      4\n",
              "2     003.PNG      1\n",
              "3     004.PNG      1\n",
              "4     005.PNG      6\n",
              "..        ...    ...\n",
              "718   719.PNG      9\n",
              "719   720.PNG      6\n",
              "720   721.PNG      2\n",
              "721   722.PNG      8\n",
              "722   723.PNG      4\n",
              "\n",
              "[723 rows x 2 columns]"
            ],
            "text/html": [
              "\n",
              "  <div id=\"df-54e13e84-6df3-47d2-aa32-33bce976438e\">\n",
              "    <div class=\"colab-df-container\">\n",
              "      <div>\n",
              "<style scoped>\n",
              "    .dataframe tbody tr th:only-of-type {\n",
              "        vertical-align: middle;\n",
              "    }\n",
              "\n",
              "    .dataframe tbody tr th {\n",
              "        vertical-align: top;\n",
              "    }\n",
              "\n",
              "    .dataframe thead th {\n",
              "        text-align: right;\n",
              "    }\n",
              "</style>\n",
              "<table border=\"1\" class=\"dataframe\">\n",
              "  <thead>\n",
              "    <tr style=\"text-align: right;\">\n",
              "      <th></th>\n",
              "      <th>file_name</th>\n",
              "      <th>label</th>\n",
              "    </tr>\n",
              "  </thead>\n",
              "  <tbody>\n",
              "    <tr>\n",
              "      <th>0</th>\n",
              "      <td>001.PNG</td>\n",
              "      <td>9</td>\n",
              "    </tr>\n",
              "    <tr>\n",
              "      <th>1</th>\n",
              "      <td>002.PNG</td>\n",
              "      <td>4</td>\n",
              "    </tr>\n",
              "    <tr>\n",
              "      <th>2</th>\n",
              "      <td>003.PNG</td>\n",
              "      <td>1</td>\n",
              "    </tr>\n",
              "    <tr>\n",
              "      <th>3</th>\n",
              "      <td>004.PNG</td>\n",
              "      <td>1</td>\n",
              "    </tr>\n",
              "    <tr>\n",
              "      <th>4</th>\n",
              "      <td>005.PNG</td>\n",
              "      <td>6</td>\n",
              "    </tr>\n",
              "    <tr>\n",
              "      <th>...</th>\n",
              "      <td>...</td>\n",
              "      <td>...</td>\n",
              "    </tr>\n",
              "    <tr>\n",
              "      <th>718</th>\n",
              "      <td>719.PNG</td>\n",
              "      <td>9</td>\n",
              "    </tr>\n",
              "    <tr>\n",
              "      <th>719</th>\n",
              "      <td>720.PNG</td>\n",
              "      <td>6</td>\n",
              "    </tr>\n",
              "    <tr>\n",
              "      <th>720</th>\n",
              "      <td>721.PNG</td>\n",
              "      <td>2</td>\n",
              "    </tr>\n",
              "    <tr>\n",
              "      <th>721</th>\n",
              "      <td>722.PNG</td>\n",
              "      <td>8</td>\n",
              "    </tr>\n",
              "    <tr>\n",
              "      <th>722</th>\n",
              "      <td>723.PNG</td>\n",
              "      <td>4</td>\n",
              "    </tr>\n",
              "  </tbody>\n",
              "</table>\n",
              "<p>723 rows × 2 columns</p>\n",
              "</div>\n",
              "      <button class=\"colab-df-convert\" onclick=\"convertToInteractive('df-54e13e84-6df3-47d2-aa32-33bce976438e')\"\n",
              "              title=\"Convert this dataframe to an interactive table.\"\n",
              "              style=\"display:none;\">\n",
              "        \n",
              "  <svg xmlns=\"http://www.w3.org/2000/svg\" height=\"24px\"viewBox=\"0 0 24 24\"\n",
              "       width=\"24px\">\n",
              "    <path d=\"M0 0h24v24H0V0z\" fill=\"none\"/>\n",
              "    <path d=\"M18.56 5.44l.94 2.06.94-2.06 2.06-.94-2.06-.94-.94-2.06-.94 2.06-2.06.94zm-11 1L8.5 8.5l.94-2.06 2.06-.94-2.06-.94L8.5 2.5l-.94 2.06-2.06.94zm10 10l.94 2.06.94-2.06 2.06-.94-2.06-.94-.94-2.06-.94 2.06-2.06.94z\"/><path d=\"M17.41 7.96l-1.37-1.37c-.4-.4-.92-.59-1.43-.59-.52 0-1.04.2-1.43.59L10.3 9.45l-7.72 7.72c-.78.78-.78 2.05 0 2.83L4 21.41c.39.39.9.59 1.41.59.51 0 1.02-.2 1.41-.59l7.78-7.78 2.81-2.81c.8-.78.8-2.07 0-2.86zM5.41 20L4 18.59l7.72-7.72 1.47 1.35L5.41 20z\"/>\n",
              "  </svg>\n",
              "      </button>\n",
              "      \n",
              "  <style>\n",
              "    .colab-df-container {\n",
              "      display:flex;\n",
              "      flex-wrap:wrap;\n",
              "      gap: 12px;\n",
              "    }\n",
              "\n",
              "    .colab-df-convert {\n",
              "      background-color: #E8F0FE;\n",
              "      border: none;\n",
              "      border-radius: 50%;\n",
              "      cursor: pointer;\n",
              "      display: none;\n",
              "      fill: #1967D2;\n",
              "      height: 32px;\n",
              "      padding: 0 0 0 0;\n",
              "      width: 32px;\n",
              "    }\n",
              "\n",
              "    .colab-df-convert:hover {\n",
              "      background-color: #E2EBFA;\n",
              "      box-shadow: 0px 1px 2px rgba(60, 64, 67, 0.3), 0px 1px 3px 1px rgba(60, 64, 67, 0.15);\n",
              "      fill: #174EA6;\n",
              "    }\n",
              "\n",
              "    [theme=dark] .colab-df-convert {\n",
              "      background-color: #3B4455;\n",
              "      fill: #D2E3FC;\n",
              "    }\n",
              "\n",
              "    [theme=dark] .colab-df-convert:hover {\n",
              "      background-color: #434B5C;\n",
              "      box-shadow: 0px 1px 3px 1px rgba(0, 0, 0, 0.15);\n",
              "      filter: drop-shadow(0px 1px 2px rgba(0, 0, 0, 0.3));\n",
              "      fill: #FFFFFF;\n",
              "    }\n",
              "  </style>\n",
              "\n",
              "      <script>\n",
              "        const buttonEl =\n",
              "          document.querySelector('#df-54e13e84-6df3-47d2-aa32-33bce976438e button.colab-df-convert');\n",
              "        buttonEl.style.display =\n",
              "          google.colab.kernel.accessAllowed ? 'block' : 'none';\n",
              "\n",
              "        async function convertToInteractive(key) {\n",
              "          const element = document.querySelector('#df-54e13e84-6df3-47d2-aa32-33bce976438e');\n",
              "          const dataTable =\n",
              "            await google.colab.kernel.invokeFunction('convertToInteractive',\n",
              "                                                     [key], {});\n",
              "          if (!dataTable) return;\n",
              "\n",
              "          const docLinkHtml = 'Like what you see? Visit the ' +\n",
              "            '<a target=\"_blank\" href=https://colab.research.google.com/notebooks/data_table.ipynb>data table notebook</a>'\n",
              "            + ' to learn more about interactive tables.';\n",
              "          element.innerHTML = '';\n",
              "          dataTable['output_type'] = 'display_data';\n",
              "          await google.colab.output.renderOutput(dataTable, element);\n",
              "          const docLink = document.createElement('div');\n",
              "          docLink.innerHTML = docLinkHtml;\n",
              "          element.appendChild(docLink);\n",
              "        }\n",
              "      </script>\n",
              "    </div>\n",
              "  </div>\n",
              "  "
            ]
          },
          "metadata": {},
          "execution_count": 2
        }
      ]
    },
    {
      "cell_type": "code",
      "source": [
        "df.info()"
      ],
      "metadata": {
        "colab": {
          "base_uri": "https://localhost:8080/"
        },
        "id": "094ypZrt1dFt",
        "outputId": "3eb8bb14-5855-49bc-abd1-f7e74c227ca6"
      },
      "execution_count": null,
      "outputs": [
        {
          "output_type": "stream",
          "name": "stdout",
          "text": [
            "<class 'pandas.core.frame.DataFrame'>\n",
            "RangeIndex: 723 entries, 0 to 722\n",
            "Data columns (total 2 columns):\n",
            " #   Column     Non-Null Count  Dtype \n",
            "---  ------     --------------  ----- \n",
            " 0   file_name  723 non-null    object\n",
            " 1   label      723 non-null    int64 \n",
            "dtypes: int64(1), object(1)\n",
            "memory usage: 11.4+ KB\n"
          ]
        }
      ]
    },
    {
      "cell_type": "code",
      "source": [
        "df = df.astype({'label':'string'})"
      ],
      "metadata": {
        "id": "zkq-74TxhoMk"
      },
      "execution_count": null,
      "outputs": []
    },
    {
      "cell_type": "code",
      "source": [
        "label = df['label'].unique()\n",
        "label"
      ],
      "metadata": {
        "colab": {
          "base_uri": "https://localhost:8080/"
        },
        "id": "aWCCEz2F0kWo",
        "outputId": "a63cc6c7-56df-4a58-f6b7-1cdc411b9bcc"
      },
      "execution_count": null,
      "outputs": [
        {
          "output_type": "execute_result",
          "data": {
            "text/plain": [
              "<StringArray>\n",
              "['9', '4', '1', '6', '5', '8', '7', '2', '3', '0']\n",
              "Length: 10, dtype: string"
            ]
          },
          "metadata": {},
          "execution_count": 5
        }
      ]
    },
    {
      "cell_type": "markdown",
      "source": [
        "#데이터 이미지의 local adress와 label 값을 list에 저장"
      ],
      "metadata": {
        "id": "c9jr-0v12kN_"
      }
    },
    {
      "cell_type": "code",
      "source": [
        "import os\n",
        "from glob import glob\n",
        "\n",
        "def get_train_data(data_dir):\n",
        "    img_path_list = []\n",
        "    label_list = []\n",
        "    \n",
        "    # get image path\n",
        "    img_path_list.extend(glob(os.path.join(data_dir, '*.PNG')))\n",
        "    img_path_list.sort(key=lambda x:int(x.split('/')[-1].split('.')[0]))\n",
        "        \n",
        "    # get label\n",
        "    label_list.extend(df['label'])\n",
        "                \n",
        "    return img_path_list, label_list\n",
        "\n",
        "def get_test_data(data_dir):\n",
        "    img_path_list = []\n",
        "    \n",
        "    # get image path\n",
        "    img_path_list.extend(glob(os.path.join(data_dir, '*.PNG')))\n",
        "    img_path_list.sort(key=lambda x:int(x.split('/')[-1].split('.')[0]))\n",
        "    #print(img_path_list)\n",
        "    \n",
        "    return img_path_list"
      ],
      "metadata": {
        "id": "ikETXG5s0tPw"
      },
      "execution_count": null,
      "outputs": []
    },
    {
      "cell_type": "code",
      "source": [
        "all_img_path, all_label = get_train_data('/content/drive/MyDrive/Colab Notebooks/Mini_Projects/dataset/train')\n",
        "test_img_path = get_test_data('/content/drive/MyDrive/Colab Notebooks/Mini_Projects/dataset/test')"
      ],
      "metadata": {
        "id": "iNAdG4Pr2t5t"
      },
      "execution_count": null,
      "outputs": []
    },
    {
      "cell_type": "code",
      "source": [
        "all_img_path[:5]\n"
      ],
      "metadata": {
        "colab": {
          "base_uri": "https://localhost:8080/"
        },
        "id": "pbiJqGlv25Cs",
        "outputId": "d49538dd-1228-4605-e63f-75addf761f67"
      },
      "execution_count": null,
      "outputs": [
        {
          "output_type": "execute_result",
          "data": {
            "text/plain": [
              "['/content/drive/MyDrive/Colab Notebooks/Mini_Projects/dataset/train/001.PNG',\n",
              " '/content/drive/MyDrive/Colab Notebooks/Mini_Projects/dataset/train/002.PNG',\n",
              " '/content/drive/MyDrive/Colab Notebooks/Mini_Projects/dataset/train/003.PNG',\n",
              " '/content/drive/MyDrive/Colab Notebooks/Mini_Projects/dataset/train/004.PNG',\n",
              " '/content/drive/MyDrive/Colab Notebooks/Mini_Projects/dataset/train/005.PNG']"
            ]
          },
          "metadata": {},
          "execution_count": 8
        }
      ]
    },
    {
      "cell_type": "code",
      "source": [
        "all_label[:5]"
      ],
      "metadata": {
        "colab": {
          "base_uri": "https://localhost:8080/"
        },
        "id": "sF9bhvK53AW0",
        "outputId": "abf1c225-f1a7-4799-8089-d4a89443f63a"
      },
      "execution_count": null,
      "outputs": [
        {
          "output_type": "execute_result",
          "data": {
            "text/plain": [
              "['9', '4', '1', '1', '6']"
            ]
          },
          "metadata": {},
          "execution_count": 9
        }
      ]
    },
    {
      "cell_type": "code",
      "source": [
        "test_img_path[:5]"
      ],
      "metadata": {
        "colab": {
          "base_uri": "https://localhost:8080/"
        },
        "id": "Kv4OJhPI3ItE",
        "outputId": "83497673-bb69-47e8-91e3-372ddd949ac3"
      },
      "execution_count": null,
      "outputs": [
        {
          "output_type": "execute_result",
          "data": {
            "text/plain": [
              "['/content/drive/MyDrive/Colab Notebooks/Mini_Projects/dataset/test/001.PNG',\n",
              " '/content/drive/MyDrive/Colab Notebooks/Mini_Projects/dataset/test/002.PNG',\n",
              " '/content/drive/MyDrive/Colab Notebooks/Mini_Projects/dataset/test/003.PNG',\n",
              " '/content/drive/MyDrive/Colab Notebooks/Mini_Projects/dataset/test/004.PNG',\n",
              " '/content/drive/MyDrive/Colab Notebooks/Mini_Projects/dataset/test/005.PNG']"
            ]
          },
          "metadata": {},
          "execution_count": 10
        }
      ]
    },
    {
      "cell_type": "markdown",
      "source": [
        "# Load Model"
      ],
      "metadata": {
        "id": "Xx1onqzh32-X"
      }
    },
    {
      "cell_type": "code",
      "source": [
        "pip install vit-keras"
      ],
      "metadata": {
        "colab": {
          "base_uri": "https://localhost:8080/"
        },
        "id": "j9qBxWS8x-zx",
        "outputId": "d7e2fa8b-8632-4f59-acbc-88762def8d65"
      },
      "execution_count": null,
      "outputs": [
        {
          "output_type": "stream",
          "name": "stdout",
          "text": [
            "Looking in indexes: https://pypi.org/simple, https://us-python.pkg.dev/colab-wheels/public/simple/\n",
            "Collecting vit-keras\n",
            "  Downloading vit_keras-0.1.0-py3-none-any.whl (24 kB)\n",
            "Requirement already satisfied: scipy in /usr/local/lib/python3.7/dist-packages (from vit-keras) (1.7.3)\n",
            "Collecting validators\n",
            "  Downloading validators-0.20.0.tar.gz (30 kB)\n",
            "Requirement already satisfied: numpy<1.23.0,>=1.16.5 in /usr/local/lib/python3.7/dist-packages (from scipy->vit-keras) (1.21.6)\n",
            "Requirement already satisfied: decorator>=3.4.0 in /usr/local/lib/python3.7/dist-packages (from validators->vit-keras) (4.4.2)\n",
            "Building wheels for collected packages: validators\n",
            "  Building wheel for validators (setup.py) ... \u001b[?25l\u001b[?25hdone\n",
            "  Created wheel for validators: filename=validators-0.20.0-py3-none-any.whl size=19582 sha256=d5c41d3bf577fb4f14be8fc5599ecff3cdeb62764b69afd8d313b11ce6ca7aa6\n",
            "  Stored in directory: /root/.cache/pip/wheels/5f/55/ab/36a76989f7f88d9ca7b1f68da6d94252bb6a8d6ad4f18e04e9\n",
            "Successfully built validators\n",
            "Installing collected packages: validators, vit-keras\n",
            "Successfully installed validators-0.20.0 vit-keras-0.1.0\n"
          ]
        }
      ]
    },
    {
      "cell_type": "code",
      "source": [
        "from vit_keras import vit, utils\n",
        "image_size= 224\n",
        "vit = vit.vit_l32(\n",
        "    image_size=image_size,\n",
        "    activation='softmax',\n",
        "    pretrained=True,\n",
        "    include_top=False,\n",
        "    pretrained_top=False\n",
        ")"
      ],
      "metadata": {
        "id": "LeYBjIVkyCq5"
      },
      "execution_count": null,
      "outputs": []
    },
    {
      "cell_type": "code",
      "source": [
        "# resnet50 = tf.keras.applications.resnet50.ResNet50(\n",
        "#     include_top=False,\n",
        "#     weights='imagenet',\n",
        "#     input_tensor=None,\n",
        "#     input_shape=(224,224,3),\n",
        "#     pooling=None\n",
        "# )"
      ],
      "metadata": {
        "id": "iOqk0eI4a2jp"
      },
      "execution_count": null,
      "outputs": []
    },
    {
      "cell_type": "markdown",
      "source": [
        "### mobilenet"
      ],
      "metadata": {
        "id": "PQ4KwKOwa4GW"
      }
    },
    {
      "cell_type": "code",
      "source": [
        "#mobilenet_model = tf.keras.applications.mobilenet_v2.MobileNetV2(include_top=False,  weights=\"imagenet\",input_shape=(224,224,3,))\n"
      ],
      "metadata": {
        "id": "xBTrPjvL3MsU"
      },
      "execution_count": null,
      "outputs": []
    },
    {
      "cell_type": "code",
      "source": [
        "# batch_size: 한번에 forward & Backword 하는 샘플의 수\n",
        "batch_size = 32 #32\n",
        "\n",
        "# Training 수\n",
        "epochs = 20 # 20\n",
        "\n",
        "# x_col = 'file_name'\n",
        "# y_col = label\n",
        "\n",
        "# Weight 조절 parameter\n",
        "LearningRate = 1e-3 # 0.001\n",
        "Decay = 1e-6\n",
        "\n",
        "img_width = 224\n",
        "img_height = 224\n",
        "\n",
        "# a = mobilenet_model.layers[-1].output\n",
        "# a = resnet50.layers[-1].output\n",
        "a = vit.layers[-1].output\n",
        "# x = tf.keras.layers.GlobalAveragePooling2D()(a)\n",
        "predictions = Dense(10, activation='softmax')(a)\n",
        "\n",
        "# Input ~ Output 연결해주기\n",
        "# DeepLearning = Model(inputs = mobilenet_model.input, outputs=predictions)\n",
        "# DeepLearning = Model(inputs = resnet50.input, outputs=predictions)\n",
        "DeepLearning = Model(inputs = vit.input, outputs=predictions)\n",
        "\n",
        "# learning parameter를 더하여 최종 model compile\n",
        "DeepLearning.compile(optimizer=\n",
        "         SGD(lr=LearningRate, decay=Decay, momentum=0.9, nesterov=True), \n",
        "         loss='categorical_crossentropy',\n",
        "         metrics=['acc'])"
      ],
      "metadata": {
        "id": "6dH3hc6h3562"
      },
      "execution_count": null,
      "outputs": []
    },
    {
      "cell_type": "code",
      "source": [
        "train_directory = '/content/drive/MyDrive/Colab Notebooks/Mini_Projects/dataset/train/'\n",
        "test_directory  = '/content/drive/MyDrive/Colab Notebooks/Mini_Projects/dataset/test/'\n",
        "model_directory = '/content/drive/MyDrive/Colab Notebooks/Mini_Projects/dataset/model/'\n",
        "tensorboard_directory = '/content/drive/MyDrive/Colab Notebooks/Mini_Projects/dataset/' + 'tensorboard'\n",
        "\n"
      ],
      "metadata": {
        "id": "ZWNmsEQ74FBK"
      },
      "execution_count": null,
      "outputs": []
    },
    {
      "cell_type": "code",
      "source": [
        "# 사진을 제대로 불러오는지 확인\n",
        "# import os\n",
        "# import glob\n",
        "# import cv2\n",
        "# from google.colab.patches import cv2_imshow\n",
        "\n",
        "# images = '/content/drive/MyDrive/Colab Notebooks/Mini_Projects/dataset/train/001.PNG'\n",
        "# image = cv2.imread(images)\n",
        "# cv2_imshow(image)"
      ],
      "metadata": {
        "id": "XlZWAjCTE67b"
      },
      "execution_count": null,
      "outputs": []
    },
    {
      "cell_type": "code",
      "source": [
        "DATAGEN_TRAIN = ImageDataGenerator(\n",
        "    rescale=1./255,\n",
        "    rotation_range=20,\n",
        "    width_shift_range=0.2,\n",
        "    height_shift_range=0.2,\n",
        "    shear_range=0.2,\n",
        "    zoom_range=0.2,\n",
        "    horizontal_flip=True,\n",
        "    vertical_flip=True,\n",
        "    featurewise_center=True,\n",
        "    featurewise_std_normalization=True,\n",
        "    data_format=\"channels_last\",\n",
        "    validation_split=0.10) # Train / Validation\n",
        "\n",
        "# Online-augmentation 비적용 Generator (Test용)\n",
        "DATAGEN_TEST = ImageDataGenerator(\n",
        "    rescale=1./255,\n",
        "    featurewise_center=True,\n",
        "    featurewise_std_normalization=True,\n",
        "    data_format=\"channels_last\")"
      ],
      "metadata": {
        "id": "o0yLqbgZBAHD"
      },
      "execution_count": null,
      "outputs": []
    },
    {
      "cell_type": "code",
      "source": [
        "# Generator의 instance 생성 (Train)\n",
        "TRAIN_GENERATOR = DATAGEN_TRAIN.flow_from_dataframe(\n",
        "    df,\n",
        "    train_directory,\n",
        "    x_col = 'file_name',\n",
        "    y_col = 'label',\n",
        "    target_size = (img_width, img_height),\n",
        "    batch_size = batch_size,\n",
        "    class_mode= \"categorical\", # softmax\n",
        "    subset = \"training\")\n",
        "\n",
        "VALID_GENERATOR = DATAGEN_TRAIN.flow_from_dataframe(\n",
        "    df,\n",
        "    train_directory,\n",
        "    x_col = 'file_name',\n",
        "    y_col = 'label',\n",
        "    target_size = (img_width, img_height),\n",
        "    batch_size = batch_size,\n",
        "    class_mode=\"categorical\",\n",
        "    subset = \"validation\")\n",
        "\n",
        "# Generator의 instance 생성 (Test)\n",
        "TEST_GENERATOR = DATAGEN_TEST.flow_from_dataframe(\n",
        "    df,\n",
        "    test_directory,\n",
        "    x_col = 'file_name',\n",
        "    y_col = 'label',\n",
        "    target_size = (img_width, img_height),\n",
        "    batch_size = batch_size,\n",
        "    shuffle = False,\n",
        "    class_mode='categorical')\n",
        "\n",
        "\n",
        "# sigmoid / binary / binary_crossentropy\n",
        "# softmax / categorical / categorical_crossentropy"
      ],
      "metadata": {
        "colab": {
          "base_uri": "https://localhost:8080/"
        },
        "id": "fEMUvm2dgpo1",
        "outputId": "9deb0b68-419d-495b-fb0f-2ad730c63872"
      },
      "execution_count": null,
      "outputs": [
        {
          "output_type": "stream",
          "name": "stdout",
          "text": [
            "Found 651 validated image filenames belonging to 10 classes.\n",
            "Found 72 validated image filenames belonging to 10 classes.\n",
            "Found 199 validated image filenames belonging to 10 classes.\n"
          ]
        }
      ]
    },
    {
      "cell_type": "code",
      "source": [
        "CP = ModelCheckpoint(filepath=model_directory+'vit-{epoch:03d}-{val_loss:.4f}-{val_acc:.4f}.hdf5',\n",
        "            monitor='val_acc', verbose=1, save_best_only=True, mode='max')\n",
        "TB = TensorBoard(log_dir=tensorboard_directory, write_graph=True, write_images=True)\n",
        "LR = ReduceLROnPlateau(monitor='val_loss',factor=0.8,patience=3, verbose=1, min_lr=1e-8)\n",
        "\n",
        "CALLBACK = [CP, TB, LR]"
      ],
      "metadata": {
        "id": "Kbhy2yX8BDHi"
      },
      "execution_count": null,
      "outputs": []
    },
    {
      "cell_type": "code",
      "source": [
        "DeepLearning.fit(\n",
        "        TRAIN_GENERATOR,\n",
        "        steps_per_epoch=TRAIN_GENERATOR.n / batch_size,\n",
        "        epochs=50,\n",
        "        callbacks=CALLBACK,\n",
        "        shuffle=True, \n",
        "        validation_data=VALID_GENERATOR)"
      ],
      "metadata": {
        "id": "08-Av3BUBDBC"
      },
      "execution_count": null,
      "outputs": []
    },
    {
      "cell_type": "code",
      "source": [
        "DeepLearning.load_weights('/content/drive/MyDrive/Colab Notebooks/Mini_Projects/dataset/model/vit-009-0.0687-1.0000.hdf5')\n"
      ],
      "metadata": {
        "id": "nvDxRLvRBJ4K"
      },
      "execution_count": null,
      "outputs": []
    },
    {
      "cell_type": "code",
      "source": [
        "TEST_Prediction = DeepLearning.predict_generator(TEST_GENERATOR, verbose=1)\n"
      ],
      "metadata": {
        "colab": {
          "base_uri": "https://localhost:8080/"
        },
        "id": "Z9PkXKAwBJ27",
        "outputId": "86bf3f51-4089-4fdc-c002-f133f586febf"
      },
      "execution_count": null,
      "outputs": [
        {
          "output_type": "stream",
          "name": "stdout",
          "text": [
            "7/7 [==============================] - 124s 20s/step\n"
          ]
        }
      ]
    },
    {
      "cell_type": "code",
      "source": [
        "TEST_Prediction[0:5]"
      ],
      "metadata": {
        "colab": {
          "base_uri": "https://localhost:8080/"
        },
        "id": "0Y3CYeeJnTkh",
        "outputId": "b0adad81-b584-4067-b957-b007c05f00b1"
      },
      "execution_count": null,
      "outputs": [
        {
          "output_type": "execute_result",
          "data": {
            "text/plain": [
              "array([[8.90629180e-03, 9.04709334e-04, 2.75244683e-01, 7.23407604e-03,\n",
              "        8.85767513e-04, 1.34302641e-03, 8.18960034e-05, 6.71299458e-01,\n",
              "        3.35385799e-02, 5.61540539e-04],\n",
              "       [2.41260102e-04, 9.98397887e-01, 6.80613084e-05, 2.19953450e-04,\n",
              "        9.48047727e-06, 1.53051093e-04, 9.04561530e-05, 2.52861209e-05,\n",
              "        6.49580907e-04, 1.45032216e-04],\n",
              "       [7.78360143e-02, 2.37289350e-03, 4.55139065e-03, 1.64939500e-02,\n",
              "        2.31632101e-03, 1.21590525e-01, 3.15421261e-02, 4.17118147e-03,\n",
              "        1.48812700e-02, 7.24244356e-01],\n",
              "       [2.13582758e-02, 9.37883451e-04, 2.49578193e-01, 1.70517911e-03,\n",
              "        1.31424365e-03, 1.28148298e-04, 2.47973553e-03, 7.14752138e-01,\n",
              "        5.09095285e-03, 2.65527540e-03],\n",
              "       [1.17103197e-03, 2.45738123e-03, 4.15876129e-05, 4.37713490e-04,\n",
              "        1.59181212e-03, 9.85779567e-04, 9.91387784e-01, 1.13031722e-03,\n",
              "        4.38129267e-04, 3.58520629e-04]], dtype=float32)"
            ]
          },
          "metadata": {},
          "execution_count": 64
        }
      ]
    },
    {
      "cell_type": "code",
      "source": [
        "TEST_Prediction.argmax(axis=1)"
      ],
      "metadata": {
        "colab": {
          "base_uri": "https://localhost:8080/"
        },
        "id": "e5wzTk8in2kq",
        "outputId": "39c3c260-c597-44a5-cd76-6479e1139e01"
      },
      "execution_count": null,
      "outputs": [
        {
          "output_type": "execute_result",
          "data": {
            "text/plain": [
              "array([7, 1, 9, 7, 6, 1, 3, 6, 3, 1, 8, 1, 7, 1, 2, 3, 2, 0, 4, 0, 6, 4,\n",
              "       8, 0, 8, 9, 2, 9, 1, 8, 0, 8, 6, 3, 3, 0, 7, 8, 9, 2, 5, 4, 3, 8,\n",
              "       5, 6, 4, 9, 0, 3, 5, 4, 1, 5, 9, 3, 5, 6, 4, 0, 5, 6, 1, 5, 0, 9,\n",
              "       0, 2, 0, 8, 3, 4, 4, 4, 6, 4, 4, 2, 2, 5, 7, 9, 9, 4, 3, 0, 1, 8,\n",
              "       1, 8, 9, 0, 7, 6, 2, 5, 2, 6, 2, 7, 3, 5, 0, 9, 7, 6, 5, 9, 2, 0,\n",
              "       7, 8, 4, 8, 8, 5, 4, 5, 1, 5, 4, 5, 1, 6, 4, 2, 9, 8, 6, 0, 8, 7,\n",
              "       1, 8, 6, 3, 4, 6, 7, 7, 1, 8, 2, 5, 2, 6, 2, 6, 7, 6, 8, 3, 5, 7,\n",
              "       8, 5, 6, 6, 6, 5, 6, 2, 3, 0, 5, 0, 4, 2, 5, 1, 9, 7, 1, 4, 3, 3,\n",
              "       3, 8, 1, 4, 1, 4, 6, 7, 3, 9, 3, 2, 7, 2, 2, 7, 2, 8, 0, 1, 1, 9,\n",
              "       0])"
            ]
          },
          "metadata": {},
          "execution_count": 65
        }
      ]
    },
    {
      "cell_type": "code",
      "source": [
        "Result = pd.DataFrame(TEST_Prediction)*100\n",
        "Result"
      ],
      "metadata": {
        "colab": {
          "base_uri": "https://localhost:8080/",
          "height": 424
        },
        "id": "EdIol5YHBJ0S",
        "outputId": "d9227682-6e3c-4e33-b395-f79504e257e2"
      },
      "execution_count": null,
      "outputs": [
        {
          "output_type": "execute_result",
          "data": {
            "text/plain": [
              "           0        1        2       3       4        5        6        7  \\\n",
              "0    0.89063  0.09047 27.52447 0.72341 0.08858  0.13430  0.00819 67.12994   \n",
              "1    0.02413 99.83979  0.00681 0.02200 0.00095  0.01531  0.00905  0.00253   \n",
              "2    7.78360  0.23729  0.45514 1.64939 0.23163 12.15905  3.15421  0.41712   \n",
              "3    2.13583  0.09379 24.95782 0.17052 0.13142  0.01281  0.24797 71.47521   \n",
              "4    0.11710  0.24574  0.00416 0.04377 0.15918  0.09858 99.13878  0.11303   \n",
              "..       ...      ...      ...     ...     ...      ...      ...      ...   \n",
              "194 91.16064  0.09825  4.39284 0.34490 0.45543  0.37923  1.68293  0.39072   \n",
              "195  0.17534 99.46820  0.09142 0.01105 0.01172  0.00307  0.13077  0.00235   \n",
              "196  0.14364 99.30487  0.07551 0.04061 0.00410  0.03960  0.01003  0.02041   \n",
              "197  0.12156  0.02389  0.04558 0.01063 0.01661  0.01793  0.02601  0.23365   \n",
              "198 95.45161  1.24460  0.92802 0.35428 0.37986  0.73961  0.30809  0.01554   \n",
              "\n",
              "          8        9  \n",
              "0   3.35386  0.05615  \n",
              "1   0.06496  0.01450  \n",
              "2   1.48813 72.42444  \n",
              "3   0.50910  0.26553  \n",
              "4   0.04381  0.03585  \n",
              "..      ...      ...  \n",
              "194 0.13143  0.96363  \n",
              "195 0.09997  0.00610  \n",
              "196 0.32879  0.03245  \n",
              "197 0.03598 99.46815  \n",
              "198 0.42964  0.14876  \n",
              "\n",
              "[199 rows x 10 columns]"
            ],
            "text/html": [
              "\n",
              "  <div id=\"df-4fb3c502-3540-47e8-b597-d37f5ded1c3e\">\n",
              "    <div class=\"colab-df-container\">\n",
              "      <div>\n",
              "<style scoped>\n",
              "    .dataframe tbody tr th:only-of-type {\n",
              "        vertical-align: middle;\n",
              "    }\n",
              "\n",
              "    .dataframe tbody tr th {\n",
              "        vertical-align: top;\n",
              "    }\n",
              "\n",
              "    .dataframe thead th {\n",
              "        text-align: right;\n",
              "    }\n",
              "</style>\n",
              "<table border=\"1\" class=\"dataframe\">\n",
              "  <thead>\n",
              "    <tr style=\"text-align: right;\">\n",
              "      <th></th>\n",
              "      <th>0</th>\n",
              "      <th>1</th>\n",
              "      <th>2</th>\n",
              "      <th>3</th>\n",
              "      <th>4</th>\n",
              "      <th>5</th>\n",
              "      <th>6</th>\n",
              "      <th>7</th>\n",
              "      <th>8</th>\n",
              "      <th>9</th>\n",
              "    </tr>\n",
              "  </thead>\n",
              "  <tbody>\n",
              "    <tr>\n",
              "      <th>0</th>\n",
              "      <td>0.89063</td>\n",
              "      <td>0.09047</td>\n",
              "      <td>27.52447</td>\n",
              "      <td>0.72341</td>\n",
              "      <td>0.08858</td>\n",
              "      <td>0.13430</td>\n",
              "      <td>0.00819</td>\n",
              "      <td>67.12994</td>\n",
              "      <td>3.35386</td>\n",
              "      <td>0.05615</td>\n",
              "    </tr>\n",
              "    <tr>\n",
              "      <th>1</th>\n",
              "      <td>0.02413</td>\n",
              "      <td>99.83979</td>\n",
              "      <td>0.00681</td>\n",
              "      <td>0.02200</td>\n",
              "      <td>0.00095</td>\n",
              "      <td>0.01531</td>\n",
              "      <td>0.00905</td>\n",
              "      <td>0.00253</td>\n",
              "      <td>0.06496</td>\n",
              "      <td>0.01450</td>\n",
              "    </tr>\n",
              "    <tr>\n",
              "      <th>2</th>\n",
              "      <td>7.78360</td>\n",
              "      <td>0.23729</td>\n",
              "      <td>0.45514</td>\n",
              "      <td>1.64939</td>\n",
              "      <td>0.23163</td>\n",
              "      <td>12.15905</td>\n",
              "      <td>3.15421</td>\n",
              "      <td>0.41712</td>\n",
              "      <td>1.48813</td>\n",
              "      <td>72.42444</td>\n",
              "    </tr>\n",
              "    <tr>\n",
              "      <th>3</th>\n",
              "      <td>2.13583</td>\n",
              "      <td>0.09379</td>\n",
              "      <td>24.95782</td>\n",
              "      <td>0.17052</td>\n",
              "      <td>0.13142</td>\n",
              "      <td>0.01281</td>\n",
              "      <td>0.24797</td>\n",
              "      <td>71.47521</td>\n",
              "      <td>0.50910</td>\n",
              "      <td>0.26553</td>\n",
              "    </tr>\n",
              "    <tr>\n",
              "      <th>4</th>\n",
              "      <td>0.11710</td>\n",
              "      <td>0.24574</td>\n",
              "      <td>0.00416</td>\n",
              "      <td>0.04377</td>\n",
              "      <td>0.15918</td>\n",
              "      <td>0.09858</td>\n",
              "      <td>99.13878</td>\n",
              "      <td>0.11303</td>\n",
              "      <td>0.04381</td>\n",
              "      <td>0.03585</td>\n",
              "    </tr>\n",
              "    <tr>\n",
              "      <th>...</th>\n",
              "      <td>...</td>\n",
              "      <td>...</td>\n",
              "      <td>...</td>\n",
              "      <td>...</td>\n",
              "      <td>...</td>\n",
              "      <td>...</td>\n",
              "      <td>...</td>\n",
              "      <td>...</td>\n",
              "      <td>...</td>\n",
              "      <td>...</td>\n",
              "    </tr>\n",
              "    <tr>\n",
              "      <th>194</th>\n",
              "      <td>91.16064</td>\n",
              "      <td>0.09825</td>\n",
              "      <td>4.39284</td>\n",
              "      <td>0.34490</td>\n",
              "      <td>0.45543</td>\n",
              "      <td>0.37923</td>\n",
              "      <td>1.68293</td>\n",
              "      <td>0.39072</td>\n",
              "      <td>0.13143</td>\n",
              "      <td>0.96363</td>\n",
              "    </tr>\n",
              "    <tr>\n",
              "      <th>195</th>\n",
              "      <td>0.17534</td>\n",
              "      <td>99.46820</td>\n",
              "      <td>0.09142</td>\n",
              "      <td>0.01105</td>\n",
              "      <td>0.01172</td>\n",
              "      <td>0.00307</td>\n",
              "      <td>0.13077</td>\n",
              "      <td>0.00235</td>\n",
              "      <td>0.09997</td>\n",
              "      <td>0.00610</td>\n",
              "    </tr>\n",
              "    <tr>\n",
              "      <th>196</th>\n",
              "      <td>0.14364</td>\n",
              "      <td>99.30487</td>\n",
              "      <td>0.07551</td>\n",
              "      <td>0.04061</td>\n",
              "      <td>0.00410</td>\n",
              "      <td>0.03960</td>\n",
              "      <td>0.01003</td>\n",
              "      <td>0.02041</td>\n",
              "      <td>0.32879</td>\n",
              "      <td>0.03245</td>\n",
              "    </tr>\n",
              "    <tr>\n",
              "      <th>197</th>\n",
              "      <td>0.12156</td>\n",
              "      <td>0.02389</td>\n",
              "      <td>0.04558</td>\n",
              "      <td>0.01063</td>\n",
              "      <td>0.01661</td>\n",
              "      <td>0.01793</td>\n",
              "      <td>0.02601</td>\n",
              "      <td>0.23365</td>\n",
              "      <td>0.03598</td>\n",
              "      <td>99.46815</td>\n",
              "    </tr>\n",
              "    <tr>\n",
              "      <th>198</th>\n",
              "      <td>95.45161</td>\n",
              "      <td>1.24460</td>\n",
              "      <td>0.92802</td>\n",
              "      <td>0.35428</td>\n",
              "      <td>0.37986</td>\n",
              "      <td>0.73961</td>\n",
              "      <td>0.30809</td>\n",
              "      <td>0.01554</td>\n",
              "      <td>0.42964</td>\n",
              "      <td>0.14876</td>\n",
              "    </tr>\n",
              "  </tbody>\n",
              "</table>\n",
              "<p>199 rows × 10 columns</p>\n",
              "</div>\n",
              "      <button class=\"colab-df-convert\" onclick=\"convertToInteractive('df-4fb3c502-3540-47e8-b597-d37f5ded1c3e')\"\n",
              "              title=\"Convert this dataframe to an interactive table.\"\n",
              "              style=\"display:none;\">\n",
              "        \n",
              "  <svg xmlns=\"http://www.w3.org/2000/svg\" height=\"24px\"viewBox=\"0 0 24 24\"\n",
              "       width=\"24px\">\n",
              "    <path d=\"M0 0h24v24H0V0z\" fill=\"none\"/>\n",
              "    <path d=\"M18.56 5.44l.94 2.06.94-2.06 2.06-.94-2.06-.94-.94-2.06-.94 2.06-2.06.94zm-11 1L8.5 8.5l.94-2.06 2.06-.94-2.06-.94L8.5 2.5l-.94 2.06-2.06.94zm10 10l.94 2.06.94-2.06 2.06-.94-2.06-.94-.94-2.06-.94 2.06-2.06.94z\"/><path d=\"M17.41 7.96l-1.37-1.37c-.4-.4-.92-.59-1.43-.59-.52 0-1.04.2-1.43.59L10.3 9.45l-7.72 7.72c-.78.78-.78 2.05 0 2.83L4 21.41c.39.39.9.59 1.41.59.51 0 1.02-.2 1.41-.59l7.78-7.78 2.81-2.81c.8-.78.8-2.07 0-2.86zM5.41 20L4 18.59l7.72-7.72 1.47 1.35L5.41 20z\"/>\n",
              "  </svg>\n",
              "      </button>\n",
              "      \n",
              "  <style>\n",
              "    .colab-df-container {\n",
              "      display:flex;\n",
              "      flex-wrap:wrap;\n",
              "      gap: 12px;\n",
              "    }\n",
              "\n",
              "    .colab-df-convert {\n",
              "      background-color: #E8F0FE;\n",
              "      border: none;\n",
              "      border-radius: 50%;\n",
              "      cursor: pointer;\n",
              "      display: none;\n",
              "      fill: #1967D2;\n",
              "      height: 32px;\n",
              "      padding: 0 0 0 0;\n",
              "      width: 32px;\n",
              "    }\n",
              "\n",
              "    .colab-df-convert:hover {\n",
              "      background-color: #E2EBFA;\n",
              "      box-shadow: 0px 1px 2px rgba(60, 64, 67, 0.3), 0px 1px 3px 1px rgba(60, 64, 67, 0.15);\n",
              "      fill: #174EA6;\n",
              "    }\n",
              "\n",
              "    [theme=dark] .colab-df-convert {\n",
              "      background-color: #3B4455;\n",
              "      fill: #D2E3FC;\n",
              "    }\n",
              "\n",
              "    [theme=dark] .colab-df-convert:hover {\n",
              "      background-color: #434B5C;\n",
              "      box-shadow: 0px 1px 3px 1px rgba(0, 0, 0, 0.15);\n",
              "      filter: drop-shadow(0px 1px 2px rgba(0, 0, 0, 0.3));\n",
              "      fill: #FFFFFF;\n",
              "    }\n",
              "  </style>\n",
              "\n",
              "      <script>\n",
              "        const buttonEl =\n",
              "          document.querySelector('#df-4fb3c502-3540-47e8-b597-d37f5ded1c3e button.colab-df-convert');\n",
              "        buttonEl.style.display =\n",
              "          google.colab.kernel.accessAllowed ? 'block' : 'none';\n",
              "\n",
              "        async function convertToInteractive(key) {\n",
              "          const element = document.querySelector('#df-4fb3c502-3540-47e8-b597-d37f5ded1c3e');\n",
              "          const dataTable =\n",
              "            await google.colab.kernel.invokeFunction('convertToInteractive',\n",
              "                                                     [key], {});\n",
              "          if (!dataTable) return;\n",
              "\n",
              "          const docLinkHtml = 'Like what you see? Visit the ' +\n",
              "            '<a target=\"_blank\" href=https://colab.research.google.com/notebooks/data_table.ipynb>data table notebook</a>'\n",
              "            + ' to learn more about interactive tables.';\n",
              "          element.innerHTML = '';\n",
              "          dataTable['output_type'] = 'display_data';\n",
              "          await google.colab.output.renderOutput(dataTable, element);\n",
              "          const docLink = document.createElement('div');\n",
              "          docLink.innerHTML = docLinkHtml;\n",
              "          element.appendChild(docLink);\n",
              "        }\n",
              "      </script>\n",
              "    </div>\n",
              "  </div>\n",
              "  "
            ]
          },
          "metadata": {},
          "execution_count": 66
        }
      ]
    },
    {
      "cell_type": "code",
      "source": [
        "Result[0:5]\n"
      ],
      "metadata": {
        "colab": {
          "base_uri": "https://localhost:8080/",
          "height": 206
        },
        "id": "KlsmtRx8BJyC",
        "outputId": "52ae9ceb-64d6-46d8-a3db-44d231f8f2d2"
      },
      "execution_count": null,
      "outputs": [
        {
          "output_type": "execute_result",
          "data": {
            "text/plain": [
              "        0        1        2       3       4        5        6        7  \\\n",
              "0 0.89063  0.09047 27.52447 0.72341 0.08858  0.13430  0.00819 67.12994   \n",
              "1 0.02413 99.83979  0.00681 0.02200 0.00095  0.01531  0.00905  0.00253   \n",
              "2 7.78360  0.23729  0.45514 1.64939 0.23163 12.15905  3.15421  0.41712   \n",
              "3 2.13583  0.09379 24.95782 0.17052 0.13142  0.01281  0.24797 71.47521   \n",
              "4 0.11710  0.24574  0.00416 0.04377 0.15918  0.09858 99.13878  0.11303   \n",
              "\n",
              "        8        9  \n",
              "0 3.35386  0.05615  \n",
              "1 0.06496  0.01450  \n",
              "2 1.48813 72.42444  \n",
              "3 0.50910  0.26553  \n",
              "4 0.04381  0.03585  "
            ],
            "text/html": [
              "\n",
              "  <div id=\"df-564ff699-8264-49a3-9eb3-fc3e8e044774\">\n",
              "    <div class=\"colab-df-container\">\n",
              "      <div>\n",
              "<style scoped>\n",
              "    .dataframe tbody tr th:only-of-type {\n",
              "        vertical-align: middle;\n",
              "    }\n",
              "\n",
              "    .dataframe tbody tr th {\n",
              "        vertical-align: top;\n",
              "    }\n",
              "\n",
              "    .dataframe thead th {\n",
              "        text-align: right;\n",
              "    }\n",
              "</style>\n",
              "<table border=\"1\" class=\"dataframe\">\n",
              "  <thead>\n",
              "    <tr style=\"text-align: right;\">\n",
              "      <th></th>\n",
              "      <th>0</th>\n",
              "      <th>1</th>\n",
              "      <th>2</th>\n",
              "      <th>3</th>\n",
              "      <th>4</th>\n",
              "      <th>5</th>\n",
              "      <th>6</th>\n",
              "      <th>7</th>\n",
              "      <th>8</th>\n",
              "      <th>9</th>\n",
              "    </tr>\n",
              "  </thead>\n",
              "  <tbody>\n",
              "    <tr>\n",
              "      <th>0</th>\n",
              "      <td>0.89063</td>\n",
              "      <td>0.09047</td>\n",
              "      <td>27.52447</td>\n",
              "      <td>0.72341</td>\n",
              "      <td>0.08858</td>\n",
              "      <td>0.13430</td>\n",
              "      <td>0.00819</td>\n",
              "      <td>67.12994</td>\n",
              "      <td>3.35386</td>\n",
              "      <td>0.05615</td>\n",
              "    </tr>\n",
              "    <tr>\n",
              "      <th>1</th>\n",
              "      <td>0.02413</td>\n",
              "      <td>99.83979</td>\n",
              "      <td>0.00681</td>\n",
              "      <td>0.02200</td>\n",
              "      <td>0.00095</td>\n",
              "      <td>0.01531</td>\n",
              "      <td>0.00905</td>\n",
              "      <td>0.00253</td>\n",
              "      <td>0.06496</td>\n",
              "      <td>0.01450</td>\n",
              "    </tr>\n",
              "    <tr>\n",
              "      <th>2</th>\n",
              "      <td>7.78360</td>\n",
              "      <td>0.23729</td>\n",
              "      <td>0.45514</td>\n",
              "      <td>1.64939</td>\n",
              "      <td>0.23163</td>\n",
              "      <td>12.15905</td>\n",
              "      <td>3.15421</td>\n",
              "      <td>0.41712</td>\n",
              "      <td>1.48813</td>\n",
              "      <td>72.42444</td>\n",
              "    </tr>\n",
              "    <tr>\n",
              "      <th>3</th>\n",
              "      <td>2.13583</td>\n",
              "      <td>0.09379</td>\n",
              "      <td>24.95782</td>\n",
              "      <td>0.17052</td>\n",
              "      <td>0.13142</td>\n",
              "      <td>0.01281</td>\n",
              "      <td>0.24797</td>\n",
              "      <td>71.47521</td>\n",
              "      <td>0.50910</td>\n",
              "      <td>0.26553</td>\n",
              "    </tr>\n",
              "    <tr>\n",
              "      <th>4</th>\n",
              "      <td>0.11710</td>\n",
              "      <td>0.24574</td>\n",
              "      <td>0.00416</td>\n",
              "      <td>0.04377</td>\n",
              "      <td>0.15918</td>\n",
              "      <td>0.09858</td>\n",
              "      <td>99.13878</td>\n",
              "      <td>0.11303</td>\n",
              "      <td>0.04381</td>\n",
              "      <td>0.03585</td>\n",
              "    </tr>\n",
              "  </tbody>\n",
              "</table>\n",
              "</div>\n",
              "      <button class=\"colab-df-convert\" onclick=\"convertToInteractive('df-564ff699-8264-49a3-9eb3-fc3e8e044774')\"\n",
              "              title=\"Convert this dataframe to an interactive table.\"\n",
              "              style=\"display:none;\">\n",
              "        \n",
              "  <svg xmlns=\"http://www.w3.org/2000/svg\" height=\"24px\"viewBox=\"0 0 24 24\"\n",
              "       width=\"24px\">\n",
              "    <path d=\"M0 0h24v24H0V0z\" fill=\"none\"/>\n",
              "    <path d=\"M18.56 5.44l.94 2.06.94-2.06 2.06-.94-2.06-.94-.94-2.06-.94 2.06-2.06.94zm-11 1L8.5 8.5l.94-2.06 2.06-.94-2.06-.94L8.5 2.5l-.94 2.06-2.06.94zm10 10l.94 2.06.94-2.06 2.06-.94-2.06-.94-.94-2.06-.94 2.06-2.06.94z\"/><path d=\"M17.41 7.96l-1.37-1.37c-.4-.4-.92-.59-1.43-.59-.52 0-1.04.2-1.43.59L10.3 9.45l-7.72 7.72c-.78.78-.78 2.05 0 2.83L4 21.41c.39.39.9.59 1.41.59.51 0 1.02-.2 1.41-.59l7.78-7.78 2.81-2.81c.8-.78.8-2.07 0-2.86zM5.41 20L4 18.59l7.72-7.72 1.47 1.35L5.41 20z\"/>\n",
              "  </svg>\n",
              "      </button>\n",
              "      \n",
              "  <style>\n",
              "    .colab-df-container {\n",
              "      display:flex;\n",
              "      flex-wrap:wrap;\n",
              "      gap: 12px;\n",
              "    }\n",
              "\n",
              "    .colab-df-convert {\n",
              "      background-color: #E8F0FE;\n",
              "      border: none;\n",
              "      border-radius: 50%;\n",
              "      cursor: pointer;\n",
              "      display: none;\n",
              "      fill: #1967D2;\n",
              "      height: 32px;\n",
              "      padding: 0 0 0 0;\n",
              "      width: 32px;\n",
              "    }\n",
              "\n",
              "    .colab-df-convert:hover {\n",
              "      background-color: #E2EBFA;\n",
              "      box-shadow: 0px 1px 2px rgba(60, 64, 67, 0.3), 0px 1px 3px 1px rgba(60, 64, 67, 0.15);\n",
              "      fill: #174EA6;\n",
              "    }\n",
              "\n",
              "    [theme=dark] .colab-df-convert {\n",
              "      background-color: #3B4455;\n",
              "      fill: #D2E3FC;\n",
              "    }\n",
              "\n",
              "    [theme=dark] .colab-df-convert:hover {\n",
              "      background-color: #434B5C;\n",
              "      box-shadow: 0px 1px 3px 1px rgba(0, 0, 0, 0.15);\n",
              "      filter: drop-shadow(0px 1px 2px rgba(0, 0, 0, 0.3));\n",
              "      fill: #FFFFFF;\n",
              "    }\n",
              "  </style>\n",
              "\n",
              "      <script>\n",
              "        const buttonEl =\n",
              "          document.querySelector('#df-564ff699-8264-49a3-9eb3-fc3e8e044774 button.colab-df-convert');\n",
              "        buttonEl.style.display =\n",
              "          google.colab.kernel.accessAllowed ? 'block' : 'none';\n",
              "\n",
              "        async function convertToInteractive(key) {\n",
              "          const element = document.querySelector('#df-564ff699-8264-49a3-9eb3-fc3e8e044774');\n",
              "          const dataTable =\n",
              "            await google.colab.kernel.invokeFunction('convertToInteractive',\n",
              "                                                     [key], {});\n",
              "          if (!dataTable) return;\n",
              "\n",
              "          const docLinkHtml = 'Like what you see? Visit the ' +\n",
              "            '<a target=\"_blank\" href=https://colab.research.google.com/notebooks/data_table.ipynb>data table notebook</a>'\n",
              "            + ' to learn more about interactive tables.';\n",
              "          element.innerHTML = '';\n",
              "          dataTable['output_type'] = 'display_data';\n",
              "          await google.colab.output.renderOutput(dataTable, element);\n",
              "          const docLink = document.createElement('div');\n",
              "          docLink.innerHTML = docLinkHtml;\n",
              "          element.appendChild(docLink);\n",
              "        }\n",
              "      </script>\n",
              "    </div>\n",
              "  </div>\n",
              "  "
            ]
          },
          "metadata": {},
          "execution_count": 67
        }
      ]
    },
    {
      "cell_type": "code",
      "source": [
        ""
      ],
      "metadata": {
        "id": "kjQM0fSHnGQ7"
      },
      "execution_count": null,
      "outputs": []
    },
    {
      "cell_type": "markdown",
      "source": [
        "#Submission file"
      ],
      "metadata": {
        "id": "lAVKFIKFllEr"
      }
    },
    {
      "cell_type": "code",
      "source": [
        "submission = pd.read_csv('/content/drive/MyDrive/Colab Notebooks/Mini_Projects/dataset/sample_submission.csv')\n",
        "submission "
      ],
      "metadata": {
        "colab": {
          "base_uri": "https://localhost:8080/",
          "height": 424
        },
        "id": "VdzZpfT1lGuw",
        "outputId": "598bc44e-6a41-440f-aaa8-1663db95bb5b"
      },
      "execution_count": null,
      "outputs": [
        {
          "output_type": "execute_result",
          "data": {
            "text/plain": [
              "    file_name  label\n",
              "0     001.PNG      0\n",
              "1     002.PNG      0\n",
              "2     003.PNG      0\n",
              "3     004.PNG      0\n",
              "4     005.PNG      0\n",
              "..        ...    ...\n",
              "194   195.PNG      0\n",
              "195   196.PNG      0\n",
              "196   197.PNG      0\n",
              "197   198.PNG      0\n",
              "198   199.PNG      0\n",
              "\n",
              "[199 rows x 2 columns]"
            ],
            "text/html": [
              "\n",
              "  <div id=\"df-69cf9fed-7912-4560-b0e2-69a0ff313b94\">\n",
              "    <div class=\"colab-df-container\">\n",
              "      <div>\n",
              "<style scoped>\n",
              "    .dataframe tbody tr th:only-of-type {\n",
              "        vertical-align: middle;\n",
              "    }\n",
              "\n",
              "    .dataframe tbody tr th {\n",
              "        vertical-align: top;\n",
              "    }\n",
              "\n",
              "    .dataframe thead th {\n",
              "        text-align: right;\n",
              "    }\n",
              "</style>\n",
              "<table border=\"1\" class=\"dataframe\">\n",
              "  <thead>\n",
              "    <tr style=\"text-align: right;\">\n",
              "      <th></th>\n",
              "      <th>file_name</th>\n",
              "      <th>label</th>\n",
              "    </tr>\n",
              "  </thead>\n",
              "  <tbody>\n",
              "    <tr>\n",
              "      <th>0</th>\n",
              "      <td>001.PNG</td>\n",
              "      <td>0</td>\n",
              "    </tr>\n",
              "    <tr>\n",
              "      <th>1</th>\n",
              "      <td>002.PNG</td>\n",
              "      <td>0</td>\n",
              "    </tr>\n",
              "    <tr>\n",
              "      <th>2</th>\n",
              "      <td>003.PNG</td>\n",
              "      <td>0</td>\n",
              "    </tr>\n",
              "    <tr>\n",
              "      <th>3</th>\n",
              "      <td>004.PNG</td>\n",
              "      <td>0</td>\n",
              "    </tr>\n",
              "    <tr>\n",
              "      <th>4</th>\n",
              "      <td>005.PNG</td>\n",
              "      <td>0</td>\n",
              "    </tr>\n",
              "    <tr>\n",
              "      <th>...</th>\n",
              "      <td>...</td>\n",
              "      <td>...</td>\n",
              "    </tr>\n",
              "    <tr>\n",
              "      <th>194</th>\n",
              "      <td>195.PNG</td>\n",
              "      <td>0</td>\n",
              "    </tr>\n",
              "    <tr>\n",
              "      <th>195</th>\n",
              "      <td>196.PNG</td>\n",
              "      <td>0</td>\n",
              "    </tr>\n",
              "    <tr>\n",
              "      <th>196</th>\n",
              "      <td>197.PNG</td>\n",
              "      <td>0</td>\n",
              "    </tr>\n",
              "    <tr>\n",
              "      <th>197</th>\n",
              "      <td>198.PNG</td>\n",
              "      <td>0</td>\n",
              "    </tr>\n",
              "    <tr>\n",
              "      <th>198</th>\n",
              "      <td>199.PNG</td>\n",
              "      <td>0</td>\n",
              "    </tr>\n",
              "  </tbody>\n",
              "</table>\n",
              "<p>199 rows × 2 columns</p>\n",
              "</div>\n",
              "      <button class=\"colab-df-convert\" onclick=\"convertToInteractive('df-69cf9fed-7912-4560-b0e2-69a0ff313b94')\"\n",
              "              title=\"Convert this dataframe to an interactive table.\"\n",
              "              style=\"display:none;\">\n",
              "        \n",
              "  <svg xmlns=\"http://www.w3.org/2000/svg\" height=\"24px\"viewBox=\"0 0 24 24\"\n",
              "       width=\"24px\">\n",
              "    <path d=\"M0 0h24v24H0V0z\" fill=\"none\"/>\n",
              "    <path d=\"M18.56 5.44l.94 2.06.94-2.06 2.06-.94-2.06-.94-.94-2.06-.94 2.06-2.06.94zm-11 1L8.5 8.5l.94-2.06 2.06-.94-2.06-.94L8.5 2.5l-.94 2.06-2.06.94zm10 10l.94 2.06.94-2.06 2.06-.94-2.06-.94-.94-2.06-.94 2.06-2.06.94z\"/><path d=\"M17.41 7.96l-1.37-1.37c-.4-.4-.92-.59-1.43-.59-.52 0-1.04.2-1.43.59L10.3 9.45l-7.72 7.72c-.78.78-.78 2.05 0 2.83L4 21.41c.39.39.9.59 1.41.59.51 0 1.02-.2 1.41-.59l7.78-7.78 2.81-2.81c.8-.78.8-2.07 0-2.86zM5.41 20L4 18.59l7.72-7.72 1.47 1.35L5.41 20z\"/>\n",
              "  </svg>\n",
              "      </button>\n",
              "      \n",
              "  <style>\n",
              "    .colab-df-container {\n",
              "      display:flex;\n",
              "      flex-wrap:wrap;\n",
              "      gap: 12px;\n",
              "    }\n",
              "\n",
              "    .colab-df-convert {\n",
              "      background-color: #E8F0FE;\n",
              "      border: none;\n",
              "      border-radius: 50%;\n",
              "      cursor: pointer;\n",
              "      display: none;\n",
              "      fill: #1967D2;\n",
              "      height: 32px;\n",
              "      padding: 0 0 0 0;\n",
              "      width: 32px;\n",
              "    }\n",
              "\n",
              "    .colab-df-convert:hover {\n",
              "      background-color: #E2EBFA;\n",
              "      box-shadow: 0px 1px 2px rgba(60, 64, 67, 0.3), 0px 1px 3px 1px rgba(60, 64, 67, 0.15);\n",
              "      fill: #174EA6;\n",
              "    }\n",
              "\n",
              "    [theme=dark] .colab-df-convert {\n",
              "      background-color: #3B4455;\n",
              "      fill: #D2E3FC;\n",
              "    }\n",
              "\n",
              "    [theme=dark] .colab-df-convert:hover {\n",
              "      background-color: #434B5C;\n",
              "      box-shadow: 0px 1px 3px 1px rgba(0, 0, 0, 0.15);\n",
              "      filter: drop-shadow(0px 1px 2px rgba(0, 0, 0, 0.3));\n",
              "      fill: #FFFFFF;\n",
              "    }\n",
              "  </style>\n",
              "\n",
              "      <script>\n",
              "        const buttonEl =\n",
              "          document.querySelector('#df-69cf9fed-7912-4560-b0e2-69a0ff313b94 button.colab-df-convert');\n",
              "        buttonEl.style.display =\n",
              "          google.colab.kernel.accessAllowed ? 'block' : 'none';\n",
              "\n",
              "        async function convertToInteractive(key) {\n",
              "          const element = document.querySelector('#df-69cf9fed-7912-4560-b0e2-69a0ff313b94');\n",
              "          const dataTable =\n",
              "            await google.colab.kernel.invokeFunction('convertToInteractive',\n",
              "                                                     [key], {});\n",
              "          if (!dataTable) return;\n",
              "\n",
              "          const docLinkHtml = 'Like what you see? Visit the ' +\n",
              "            '<a target=\"_blank\" href=https://colab.research.google.com/notebooks/data_table.ipynb>data table notebook</a>'\n",
              "            + ' to learn more about interactive tables.';\n",
              "          element.innerHTML = '';\n",
              "          dataTable['output_type'] = 'display_data';\n",
              "          await google.colab.output.renderOutput(dataTable, element);\n",
              "          const docLink = document.createElement('div');\n",
              "          docLink.innerHTML = docLinkHtml;\n",
              "          element.appendChild(docLink);\n",
              "        }\n",
              "      </script>\n",
              "    </div>\n",
              "  </div>\n",
              "  "
            ]
          },
          "metadata": {},
          "execution_count": 68
        }
      ]
    },
    {
      "cell_type": "code",
      "source": [
        "submission['label'] = TEST_Prediction.argmax(axis=1)"
      ],
      "metadata": {
        "id": "nozR-HNdmZEn"
      },
      "execution_count": null,
      "outputs": []
    },
    {
      "cell_type": "code",
      "source": [
        "submission.head()"
      ],
      "metadata": {
        "colab": {
          "base_uri": "https://localhost:8080/",
          "height": 206
        },
        "id": "_JhaB2-No2c8",
        "outputId": "ee757d7f-3501-436e-cd27-7bc1aa7c399c"
      },
      "execution_count": null,
      "outputs": [
        {
          "output_type": "execute_result",
          "data": {
            "text/plain": [
              "  file_name  label\n",
              "0   001.PNG      7\n",
              "1   002.PNG      1\n",
              "2   003.PNG      9\n",
              "3   004.PNG      7\n",
              "4   005.PNG      6"
            ],
            "text/html": [
              "\n",
              "  <div id=\"df-0c8fd1e1-d16e-44b1-bf72-e58ea1018ca9\">\n",
              "    <div class=\"colab-df-container\">\n",
              "      <div>\n",
              "<style scoped>\n",
              "    .dataframe tbody tr th:only-of-type {\n",
              "        vertical-align: middle;\n",
              "    }\n",
              "\n",
              "    .dataframe tbody tr th {\n",
              "        vertical-align: top;\n",
              "    }\n",
              "\n",
              "    .dataframe thead th {\n",
              "        text-align: right;\n",
              "    }\n",
              "</style>\n",
              "<table border=\"1\" class=\"dataframe\">\n",
              "  <thead>\n",
              "    <tr style=\"text-align: right;\">\n",
              "      <th></th>\n",
              "      <th>file_name</th>\n",
              "      <th>label</th>\n",
              "    </tr>\n",
              "  </thead>\n",
              "  <tbody>\n",
              "    <tr>\n",
              "      <th>0</th>\n",
              "      <td>001.PNG</td>\n",
              "      <td>7</td>\n",
              "    </tr>\n",
              "    <tr>\n",
              "      <th>1</th>\n",
              "      <td>002.PNG</td>\n",
              "      <td>1</td>\n",
              "    </tr>\n",
              "    <tr>\n",
              "      <th>2</th>\n",
              "      <td>003.PNG</td>\n",
              "      <td>9</td>\n",
              "    </tr>\n",
              "    <tr>\n",
              "      <th>3</th>\n",
              "      <td>004.PNG</td>\n",
              "      <td>7</td>\n",
              "    </tr>\n",
              "    <tr>\n",
              "      <th>4</th>\n",
              "      <td>005.PNG</td>\n",
              "      <td>6</td>\n",
              "    </tr>\n",
              "  </tbody>\n",
              "</table>\n",
              "</div>\n",
              "      <button class=\"colab-df-convert\" onclick=\"convertToInteractive('df-0c8fd1e1-d16e-44b1-bf72-e58ea1018ca9')\"\n",
              "              title=\"Convert this dataframe to an interactive table.\"\n",
              "              style=\"display:none;\">\n",
              "        \n",
              "  <svg xmlns=\"http://www.w3.org/2000/svg\" height=\"24px\"viewBox=\"0 0 24 24\"\n",
              "       width=\"24px\">\n",
              "    <path d=\"M0 0h24v24H0V0z\" fill=\"none\"/>\n",
              "    <path d=\"M18.56 5.44l.94 2.06.94-2.06 2.06-.94-2.06-.94-.94-2.06-.94 2.06-2.06.94zm-11 1L8.5 8.5l.94-2.06 2.06-.94-2.06-.94L8.5 2.5l-.94 2.06-2.06.94zm10 10l.94 2.06.94-2.06 2.06-.94-2.06-.94-.94-2.06-.94 2.06-2.06.94z\"/><path d=\"M17.41 7.96l-1.37-1.37c-.4-.4-.92-.59-1.43-.59-.52 0-1.04.2-1.43.59L10.3 9.45l-7.72 7.72c-.78.78-.78 2.05 0 2.83L4 21.41c.39.39.9.59 1.41.59.51 0 1.02-.2 1.41-.59l7.78-7.78 2.81-2.81c.8-.78.8-2.07 0-2.86zM5.41 20L4 18.59l7.72-7.72 1.47 1.35L5.41 20z\"/>\n",
              "  </svg>\n",
              "      </button>\n",
              "      \n",
              "  <style>\n",
              "    .colab-df-container {\n",
              "      display:flex;\n",
              "      flex-wrap:wrap;\n",
              "      gap: 12px;\n",
              "    }\n",
              "\n",
              "    .colab-df-convert {\n",
              "      background-color: #E8F0FE;\n",
              "      border: none;\n",
              "      border-radius: 50%;\n",
              "      cursor: pointer;\n",
              "      display: none;\n",
              "      fill: #1967D2;\n",
              "      height: 32px;\n",
              "      padding: 0 0 0 0;\n",
              "      width: 32px;\n",
              "    }\n",
              "\n",
              "    .colab-df-convert:hover {\n",
              "      background-color: #E2EBFA;\n",
              "      box-shadow: 0px 1px 2px rgba(60, 64, 67, 0.3), 0px 1px 3px 1px rgba(60, 64, 67, 0.15);\n",
              "      fill: #174EA6;\n",
              "    }\n",
              "\n",
              "    [theme=dark] .colab-df-convert {\n",
              "      background-color: #3B4455;\n",
              "      fill: #D2E3FC;\n",
              "    }\n",
              "\n",
              "    [theme=dark] .colab-df-convert:hover {\n",
              "      background-color: #434B5C;\n",
              "      box-shadow: 0px 1px 3px 1px rgba(0, 0, 0, 0.15);\n",
              "      filter: drop-shadow(0px 1px 2px rgba(0, 0, 0, 0.3));\n",
              "      fill: #FFFFFF;\n",
              "    }\n",
              "  </style>\n",
              "\n",
              "      <script>\n",
              "        const buttonEl =\n",
              "          document.querySelector('#df-0c8fd1e1-d16e-44b1-bf72-e58ea1018ca9 button.colab-df-convert');\n",
              "        buttonEl.style.display =\n",
              "          google.colab.kernel.accessAllowed ? 'block' : 'none';\n",
              "\n",
              "        async function convertToInteractive(key) {\n",
              "          const element = document.querySelector('#df-0c8fd1e1-d16e-44b1-bf72-e58ea1018ca9');\n",
              "          const dataTable =\n",
              "            await google.colab.kernel.invokeFunction('convertToInteractive',\n",
              "                                                     [key], {});\n",
              "          if (!dataTable) return;\n",
              "\n",
              "          const docLinkHtml = 'Like what you see? Visit the ' +\n",
              "            '<a target=\"_blank\" href=https://colab.research.google.com/notebooks/data_table.ipynb>data table notebook</a>'\n",
              "            + ' to learn more about interactive tables.';\n",
              "          element.innerHTML = '';\n",
              "          dataTable['output_type'] = 'display_data';\n",
              "          await google.colab.output.renderOutput(dataTable, element);\n",
              "          const docLink = document.createElement('div');\n",
              "          docLink.innerHTML = docLinkHtml;\n",
              "          element.appendChild(docLink);\n",
              "        }\n",
              "      </script>\n",
              "    </div>\n",
              "  </div>\n",
              "  "
            ]
          },
          "metadata": {},
          "execution_count": 70
        }
      ]
    },
    {
      "cell_type": "code",
      "source": [
        "submission.to_csv('/content/drive/MyDrive/Colab Notebooks/Mini_Projects/dataset/submission/submission4.csv', index=False)\n"
      ],
      "metadata": {
        "id": "Vd35HwfHo54O"
      },
      "execution_count": null,
      "outputs": []
    },
    {
      "cell_type": "markdown",
      "source": [
        "#epoch 50"
      ],
      "metadata": {
        "id": "LhrIaDl1wxrt"
      }
    },
    {
      "cell_type": "code",
      "source": [
        "submission = pd.read_csv('/content/drive/MyDrive/Colab Notebooks/Mini_Projects/dataset/sample_submission.csv')\n",
        "submission "
      ],
      "metadata": {
        "id": "aS20tU86pgTI"
      },
      "execution_count": null,
      "outputs": []
    }
  ]
}