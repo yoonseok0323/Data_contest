{
  "nbformat": 4,
  "nbformat_minor": 0,
  "metadata": {
    "colab": {
      "name": "datacon_landmark_classification.ipynb",
      "provenance": []
    },
    "kernelspec": {
      "name": "python3",
      "display_name": "Python 3"
    },
    "language_info": {
      "name": "python"
    },
    "accelerator": "GPU",
    "gpuClass": "standard"
  },
  "cells": [
    {
      "cell_type": "code",
      "execution_count": 105,
      "metadata": {
        "id": "uRdUfyLdxd9Z"
      },
      "outputs": [],
      "source": [
        "import tensorflow as tf\n",
        "import numpy as np\n",
        "import pandas as pd\n",
        "pd.options.display.float_format = '{:.5f}'.format\n",
        "\n",
        "import copy\n",
        "import cv2\n",
        "import os\n",
        "import math\n",
        "import scipy as sp\n",
        "import PIL\n",
        "\n",
        "# Tensorflow\n",
        "import tensorflow as tf\n",
        "from tensorflow.keras import models, layers, Model\n",
        "from tensorflow.keras.models import Sequential, load_model\n",
        "from tensorflow.keras.layers import Conv2D, MaxPooling2D\n",
        "from tensorflow.keras.layers import Dense, Dropout, Flatten, GlobalAveragePooling2D\n",
        "from tensorflow.keras.layers import Flatten, Dense, Dropout, ZeroPadding2D\n",
        "\n",
        "from tensorflow.keras.preprocessing.image import ImageDataGenerator\n",
        "from tensorflow.keras.callbacks import ModelCheckpoint, TensorBoard, ReduceLROnPlateau\n",
        "from tensorflow.keras import optimizers\n",
        "from tensorflow.keras.optimizers import SGD\n",
        "from tensorflow.keras.models import Model\n",
        "from tensorflow.keras.preprocessing import image\n",
        "from tensorflow.keras.applications import EfficientNetB4, EfficientNetB6, ResNet50V2\n",
        "#from keras_tuner.tuners import RandomSearch\n",
        "\n",
        "# import scikitplot as skplt\n",
        "# from sklearn.metrics import roc_auc_score\n",
        "# import matplotlib.pyplot as plt\n",
        "\n",
        "# # split dataset\n",
        "# import splitfolders\n",
        "\n",
        "# ignore warnings\n",
        "import warnings\n",
        "warnings.filterwarnings(action='ignore')"
      ]
    },
    {
      "cell_type": "code",
      "source": [
        "df = pd.read_csv('/content/drive/MyDrive/Colab Notebooks/Mini_Projects/dataset/train.csv')\n",
        "df"
      ],
      "metadata": {
        "colab": {
          "base_uri": "https://localhost:8080/",
          "height": 423
        },
        "id": "yYW6Smsvxw1E",
        "outputId": "c1269a4a-dd4b-492f-f32c-ed767e6b02e8"
      },
      "execution_count": 106,
      "outputs": [
        {
          "output_type": "execute_result",
          "data": {
            "text/plain": [
              "    file_name  label\n",
              "0     001.PNG      9\n",
              "1     002.PNG      4\n",
              "2     003.PNG      1\n",
              "3     004.PNG      1\n",
              "4     005.PNG      6\n",
              "..        ...    ...\n",
              "718   719.PNG      9\n",
              "719   720.PNG      6\n",
              "720   721.PNG      2\n",
              "721   722.PNG      8\n",
              "722   723.PNG      4\n",
              "\n",
              "[723 rows x 2 columns]"
            ],
            "text/html": [
              "\n",
              "  <div id=\"df-2b2f324b-912b-4f20-8111-a484c2d718e8\">\n",
              "    <div class=\"colab-df-container\">\n",
              "      <div>\n",
              "<style scoped>\n",
              "    .dataframe tbody tr th:only-of-type {\n",
              "        vertical-align: middle;\n",
              "    }\n",
              "\n",
              "    .dataframe tbody tr th {\n",
              "        vertical-align: top;\n",
              "    }\n",
              "\n",
              "    .dataframe thead th {\n",
              "        text-align: right;\n",
              "    }\n",
              "</style>\n",
              "<table border=\"1\" class=\"dataframe\">\n",
              "  <thead>\n",
              "    <tr style=\"text-align: right;\">\n",
              "      <th></th>\n",
              "      <th>file_name</th>\n",
              "      <th>label</th>\n",
              "    </tr>\n",
              "  </thead>\n",
              "  <tbody>\n",
              "    <tr>\n",
              "      <th>0</th>\n",
              "      <td>001.PNG</td>\n",
              "      <td>9</td>\n",
              "    </tr>\n",
              "    <tr>\n",
              "      <th>1</th>\n",
              "      <td>002.PNG</td>\n",
              "      <td>4</td>\n",
              "    </tr>\n",
              "    <tr>\n",
              "      <th>2</th>\n",
              "      <td>003.PNG</td>\n",
              "      <td>1</td>\n",
              "    </tr>\n",
              "    <tr>\n",
              "      <th>3</th>\n",
              "      <td>004.PNG</td>\n",
              "      <td>1</td>\n",
              "    </tr>\n",
              "    <tr>\n",
              "      <th>4</th>\n",
              "      <td>005.PNG</td>\n",
              "      <td>6</td>\n",
              "    </tr>\n",
              "    <tr>\n",
              "      <th>...</th>\n",
              "      <td>...</td>\n",
              "      <td>...</td>\n",
              "    </tr>\n",
              "    <tr>\n",
              "      <th>718</th>\n",
              "      <td>719.PNG</td>\n",
              "      <td>9</td>\n",
              "    </tr>\n",
              "    <tr>\n",
              "      <th>719</th>\n",
              "      <td>720.PNG</td>\n",
              "      <td>6</td>\n",
              "    </tr>\n",
              "    <tr>\n",
              "      <th>720</th>\n",
              "      <td>721.PNG</td>\n",
              "      <td>2</td>\n",
              "    </tr>\n",
              "    <tr>\n",
              "      <th>721</th>\n",
              "      <td>722.PNG</td>\n",
              "      <td>8</td>\n",
              "    </tr>\n",
              "    <tr>\n",
              "      <th>722</th>\n",
              "      <td>723.PNG</td>\n",
              "      <td>4</td>\n",
              "    </tr>\n",
              "  </tbody>\n",
              "</table>\n",
              "<p>723 rows × 2 columns</p>\n",
              "</div>\n",
              "      <button class=\"colab-df-convert\" onclick=\"convertToInteractive('df-2b2f324b-912b-4f20-8111-a484c2d718e8')\"\n",
              "              title=\"Convert this dataframe to an interactive table.\"\n",
              "              style=\"display:none;\">\n",
              "        \n",
              "  <svg xmlns=\"http://www.w3.org/2000/svg\" height=\"24px\"viewBox=\"0 0 24 24\"\n",
              "       width=\"24px\">\n",
              "    <path d=\"M0 0h24v24H0V0z\" fill=\"none\"/>\n",
              "    <path d=\"M18.56 5.44l.94 2.06.94-2.06 2.06-.94-2.06-.94-.94-2.06-.94 2.06-2.06.94zm-11 1L8.5 8.5l.94-2.06 2.06-.94-2.06-.94L8.5 2.5l-.94 2.06-2.06.94zm10 10l.94 2.06.94-2.06 2.06-.94-2.06-.94-.94-2.06-.94 2.06-2.06.94z\"/><path d=\"M17.41 7.96l-1.37-1.37c-.4-.4-.92-.59-1.43-.59-.52 0-1.04.2-1.43.59L10.3 9.45l-7.72 7.72c-.78.78-.78 2.05 0 2.83L4 21.41c.39.39.9.59 1.41.59.51 0 1.02-.2 1.41-.59l7.78-7.78 2.81-2.81c.8-.78.8-2.07 0-2.86zM5.41 20L4 18.59l7.72-7.72 1.47 1.35L5.41 20z\"/>\n",
              "  </svg>\n",
              "      </button>\n",
              "      \n",
              "  <style>\n",
              "    .colab-df-container {\n",
              "      display:flex;\n",
              "      flex-wrap:wrap;\n",
              "      gap: 12px;\n",
              "    }\n",
              "\n",
              "    .colab-df-convert {\n",
              "      background-color: #E8F0FE;\n",
              "      border: none;\n",
              "      border-radius: 50%;\n",
              "      cursor: pointer;\n",
              "      display: none;\n",
              "      fill: #1967D2;\n",
              "      height: 32px;\n",
              "      padding: 0 0 0 0;\n",
              "      width: 32px;\n",
              "    }\n",
              "\n",
              "    .colab-df-convert:hover {\n",
              "      background-color: #E2EBFA;\n",
              "      box-shadow: 0px 1px 2px rgba(60, 64, 67, 0.3), 0px 1px 3px 1px rgba(60, 64, 67, 0.15);\n",
              "      fill: #174EA6;\n",
              "    }\n",
              "\n",
              "    [theme=dark] .colab-df-convert {\n",
              "      background-color: #3B4455;\n",
              "      fill: #D2E3FC;\n",
              "    }\n",
              "\n",
              "    [theme=dark] .colab-df-convert:hover {\n",
              "      background-color: #434B5C;\n",
              "      box-shadow: 0px 1px 3px 1px rgba(0, 0, 0, 0.15);\n",
              "      filter: drop-shadow(0px 1px 2px rgba(0, 0, 0, 0.3));\n",
              "      fill: #FFFFFF;\n",
              "    }\n",
              "  </style>\n",
              "\n",
              "      <script>\n",
              "        const buttonEl =\n",
              "          document.querySelector('#df-2b2f324b-912b-4f20-8111-a484c2d718e8 button.colab-df-convert');\n",
              "        buttonEl.style.display =\n",
              "          google.colab.kernel.accessAllowed ? 'block' : 'none';\n",
              "\n",
              "        async function convertToInteractive(key) {\n",
              "          const element = document.querySelector('#df-2b2f324b-912b-4f20-8111-a484c2d718e8');\n",
              "          const dataTable =\n",
              "            await google.colab.kernel.invokeFunction('convertToInteractive',\n",
              "                                                     [key], {});\n",
              "          if (!dataTable) return;\n",
              "\n",
              "          const docLinkHtml = 'Like what you see? Visit the ' +\n",
              "            '<a target=\"_blank\" href=https://colab.research.google.com/notebooks/data_table.ipynb>data table notebook</a>'\n",
              "            + ' to learn more about interactive tables.';\n",
              "          element.innerHTML = '';\n",
              "          dataTable['output_type'] = 'display_data';\n",
              "          await google.colab.output.renderOutput(dataTable, element);\n",
              "          const docLink = document.createElement('div');\n",
              "          docLink.innerHTML = docLinkHtml;\n",
              "          element.appendChild(docLink);\n",
              "        }\n",
              "      </script>\n",
              "    </div>\n",
              "  </div>\n",
              "  "
            ]
          },
          "metadata": {},
          "execution_count": 106
        }
      ]
    },
    {
      "cell_type": "code",
      "source": [
        "df.info()"
      ],
      "metadata": {
        "colab": {
          "base_uri": "https://localhost:8080/"
        },
        "id": "094ypZrt1dFt",
        "outputId": "94e7666c-7cf5-49ee-bbe4-127855c6ca3c"
      },
      "execution_count": 107,
      "outputs": [
        {
          "output_type": "stream",
          "name": "stdout",
          "text": [
            "<class 'pandas.core.frame.DataFrame'>\n",
            "RangeIndex: 723 entries, 0 to 722\n",
            "Data columns (total 2 columns):\n",
            " #   Column     Non-Null Count  Dtype \n",
            "---  ------     --------------  ----- \n",
            " 0   file_name  723 non-null    object\n",
            " 1   label      723 non-null    int64 \n",
            "dtypes: int64(1), object(1)\n",
            "memory usage: 11.4+ KB\n"
          ]
        }
      ]
    },
    {
      "cell_type": "code",
      "source": [
        "df = df.astype({'label':'string'})"
      ],
      "metadata": {
        "id": "zkq-74TxhoMk"
      },
      "execution_count": 108,
      "outputs": []
    },
    {
      "cell_type": "code",
      "source": [
        "label = df['label'].unique()\n",
        "label"
      ],
      "metadata": {
        "colab": {
          "base_uri": "https://localhost:8080/"
        },
        "id": "aWCCEz2F0kWo",
        "outputId": "6131895b-c4d2-44a1-9d62-576462278fed"
      },
      "execution_count": 109,
      "outputs": [
        {
          "output_type": "execute_result",
          "data": {
            "text/plain": [
              "<StringArray>\n",
              "['9', '4', '1', '6', '5', '8', '7', '2', '3', '0']\n",
              "Length: 10, dtype: string"
            ]
          },
          "metadata": {},
          "execution_count": 109
        }
      ]
    },
    {
      "cell_type": "markdown",
      "source": [
        "#데이터 이미지의 local adress와 label 값을 list에 저장"
      ],
      "metadata": {
        "id": "c9jr-0v12kN_"
      }
    },
    {
      "cell_type": "code",
      "source": [
        "import os\n",
        "from glob import glob\n",
        "\n",
        "def get_train_data(data_dir):\n",
        "    img_path_list = []\n",
        "    label_list = []\n",
        "    \n",
        "    # get image path\n",
        "    img_path_list.extend(glob(os.path.join(data_dir, '*.PNG')))\n",
        "    img_path_list.sort(key=lambda x:int(x.split('/')[-1].split('.')[0]))\n",
        "        \n",
        "    # get label\n",
        "    label_list.extend(df['label'])\n",
        "                \n",
        "    return img_path_list, label_list\n",
        "\n",
        "def get_test_data(data_dir):\n",
        "    img_path_list = []\n",
        "    \n",
        "    # get image path\n",
        "    img_path_list.extend(glob(os.path.join(data_dir, '*.PNG')))\n",
        "    img_path_list.sort(key=lambda x:int(x.split('/')[-1].split('.')[0]))\n",
        "    #print(img_path_list)\n",
        "    \n",
        "    return img_path_list"
      ],
      "metadata": {
        "id": "ikETXG5s0tPw"
      },
      "execution_count": 110,
      "outputs": []
    },
    {
      "cell_type": "code",
      "source": [
        "all_img_path, all_label = get_train_data('/content/drive/MyDrive/Colab Notebooks/Mini_Projects/dataset/train')\n",
        "test_img_path = get_test_data('/content/drive/MyDrive/Colab Notebooks/Mini_Projects/dataset/test')"
      ],
      "metadata": {
        "id": "iNAdG4Pr2t5t"
      },
      "execution_count": 111,
      "outputs": []
    },
    {
      "cell_type": "code",
      "source": [
        "all_img_path[:5]\n"
      ],
      "metadata": {
        "colab": {
          "base_uri": "https://localhost:8080/"
        },
        "id": "pbiJqGlv25Cs",
        "outputId": "fbf319d4-cedc-4188-8411-3e11d7fb6121"
      },
      "execution_count": 112,
      "outputs": [
        {
          "output_type": "execute_result",
          "data": {
            "text/plain": [
              "['/content/drive/MyDrive/Colab Notebooks/Mini_Projects/dataset/train/001.PNG',\n",
              " '/content/drive/MyDrive/Colab Notebooks/Mini_Projects/dataset/train/002.PNG',\n",
              " '/content/drive/MyDrive/Colab Notebooks/Mini_Projects/dataset/train/003.PNG',\n",
              " '/content/drive/MyDrive/Colab Notebooks/Mini_Projects/dataset/train/004.PNG',\n",
              " '/content/drive/MyDrive/Colab Notebooks/Mini_Projects/dataset/train/005.PNG']"
            ]
          },
          "metadata": {},
          "execution_count": 112
        }
      ]
    },
    {
      "cell_type": "code",
      "source": [
        "all_label[:5]"
      ],
      "metadata": {
        "colab": {
          "base_uri": "https://localhost:8080/"
        },
        "id": "sF9bhvK53AW0",
        "outputId": "d318db40-e848-4fd7-a785-31d46aea2c74"
      },
      "execution_count": 113,
      "outputs": [
        {
          "output_type": "execute_result",
          "data": {
            "text/plain": [
              "['9', '4', '1', '1', '6']"
            ]
          },
          "metadata": {},
          "execution_count": 113
        }
      ]
    },
    {
      "cell_type": "code",
      "source": [
        "test_img_path[:5]"
      ],
      "metadata": {
        "colab": {
          "base_uri": "https://localhost:8080/"
        },
        "id": "Kv4OJhPI3ItE",
        "outputId": "fb252a4c-b734-46ff-f326-3db5bf2f3e14"
      },
      "execution_count": 114,
      "outputs": [
        {
          "output_type": "execute_result",
          "data": {
            "text/plain": [
              "['/content/drive/MyDrive/Colab Notebooks/Mini_Projects/dataset/test/001.PNG',\n",
              " '/content/drive/MyDrive/Colab Notebooks/Mini_Projects/dataset/test/002.PNG',\n",
              " '/content/drive/MyDrive/Colab Notebooks/Mini_Projects/dataset/test/003.PNG',\n",
              " '/content/drive/MyDrive/Colab Notebooks/Mini_Projects/dataset/test/004.PNG',\n",
              " '/content/drive/MyDrive/Colab Notebooks/Mini_Projects/dataset/test/005.PNG']"
            ]
          },
          "metadata": {},
          "execution_count": 114
        }
      ]
    },
    {
      "cell_type": "markdown",
      "source": [
        "# Load Model"
      ],
      "metadata": {
        "id": "Xx1onqzh32-X"
      }
    },
    {
      "cell_type": "code",
      "source": [
        "mobilenet_model = tf.keras.applications.mobilenet_v2.MobileNetV2(include_top=False,  weights=\"imagenet\",input_shape=(224,224,3,))\n"
      ],
      "metadata": {
        "id": "xBTrPjvL3MsU"
      },
      "execution_count": 115,
      "outputs": []
    },
    {
      "cell_type": "code",
      "source": [
        "# batch_size: 한번에 forward & Backword 하는 샘플의 수\n",
        "batch_size = 32\n",
        "\n",
        "# Training 수\n",
        "epochs = 50\n",
        "\n",
        "# x_col = 'file_name'\n",
        "# y_col = label\n",
        "\n",
        "# Weight 조절 parameter\n",
        "LearningRate = 1e-3 # 0.001\n",
        "Decay = 1e-6\n",
        "\n",
        "img_width = 224\n",
        "img_height = 224\n",
        "\n",
        "a = mobilenet_model.layers[-1].output\n",
        "x = tf.keras.layers.GlobalAveragePooling2D()(a)\n",
        "predictions = Dense(10, activation='softmax')(x)\n",
        "\n",
        "# Input ~ Output 연결해주기\n",
        "DeepLearning = Model(inputs = mobilenet_model.input, outputs=predictions)\n",
        "\n",
        "# learning parameter를 더하여 최종 model compile\n",
        "DeepLearning.compile(optimizer=\n",
        "         SGD(lr=LearningRate, decay=Decay, momentum=0.9, nesterov=True), \n",
        "         loss='categorical_crossentropy',\n",
        "         metrics=['acc'])"
      ],
      "metadata": {
        "id": "6dH3hc6h3562"
      },
      "execution_count": 116,
      "outputs": []
    },
    {
      "cell_type": "code",
      "source": [
        "train_directory = '/content/drive/MyDrive/Colab Notebooks/Mini_Projects/dataset/train/'\n",
        "test_directory  = '/content/drive/MyDrive/Colab Notebooks/Mini_Projects/dataset/test/'\n",
        "model_directory = '/content/drive/MyDrive/Colab Notebooks/Mini_Projects/dataset/model/'\n",
        "tensorboard_directory = '/content/drive/MyDrive/Colab Notebooks/Mini_Projects/dataset/' + 'tensorboard'\n",
        "\n"
      ],
      "metadata": {
        "id": "ZWNmsEQ74FBK"
      },
      "execution_count": 117,
      "outputs": []
    },
    {
      "cell_type": "code",
      "source": [
        "# 사진을 제대로 불러오는지 확인\n",
        "# import os\n",
        "# import glob\n",
        "# import cv2\n",
        "# from google.colab.patches import cv2_imshow\n",
        "\n",
        "# images = '/content/drive/MyDrive/Colab Notebooks/Mini_Projects/dataset/train/001.PNG'\n",
        "# image = cv2.imread(images)\n",
        "# cv2_imshow(image)"
      ],
      "metadata": {
        "id": "XlZWAjCTE67b"
      },
      "execution_count": 118,
      "outputs": []
    },
    {
      "cell_type": "code",
      "source": [
        "DATAGEN_TRAIN = ImageDataGenerator(\n",
        "    rescale=1./255,\n",
        "    rotation_range=20,\n",
        "    width_shift_range=0.2,\n",
        "    height_shift_range=0.2,\n",
        "    shear_range=0.2,\n",
        "    zoom_range=0.2,\n",
        "    horizontal_flip=True,\n",
        "    vertical_flip=True,\n",
        "    featurewise_center=True,\n",
        "    featurewise_std_normalization=True,\n",
        "    data_format=\"channels_last\",\n",
        "    validation_split=0.10) # Train / Validation\n",
        "\n",
        "# Online-augmentation 비적용 Generator (Test용)\n",
        "DATAGEN_TEST = ImageDataGenerator(\n",
        "    rescale=1./255,\n",
        "    featurewise_center=True,\n",
        "    featurewise_std_normalization=True,\n",
        "    data_format=\"channels_last\")"
      ],
      "metadata": {
        "id": "o0yLqbgZBAHD"
      },
      "execution_count": 119,
      "outputs": []
    },
    {
      "cell_type": "code",
      "source": [
        "# Generator의 instance 생성 (Train)\n",
        "TRAIN_GENERATOR = DATAGEN_TRAIN.flow_from_dataframe(\n",
        "    df,\n",
        "    train_directory,\n",
        "    x_col = 'file_name',\n",
        "    y_col = 'label',\n",
        "    target_size = (img_width, img_height),\n",
        "    batch_size = batch_size,\n",
        "    class_mode= \"categorical\", # softmax\n",
        "    subset = \"training\")\n",
        "\n",
        "VALID_GENERATOR = DATAGEN_TRAIN.flow_from_dataframe(\n",
        "    df,\n",
        "    train_directory,\n",
        "    x_col = 'file_name',\n",
        "    y_col = 'label',\n",
        "    target_size = (img_width, img_height),\n",
        "    batch_size = batch_size,\n",
        "    class_mode=\"categorical\",\n",
        "    subset = \"validation\")\n",
        "\n",
        "# Generator의 instance 생성 (Test)\n",
        "TEST_GENERATOR = DATAGEN_TEST.flow_from_dataframe(\n",
        "    df,\n",
        "    test_directory,\n",
        "    x_col = 'file_name',\n",
        "    y_col = 'label',\n",
        "    target_size = (img_width, img_height),\n",
        "    batch_size = batch_size,\n",
        "    shuffle = False,\n",
        "    class_mode='categorical')\n",
        "\n",
        "\n",
        "# sigmoid / binary / binary_crossentropy\n",
        "# softmax / categorical / categorical_crossentropy"
      ],
      "metadata": {
        "colab": {
          "base_uri": "https://localhost:8080/"
        },
        "id": "fEMUvm2dgpo1",
        "outputId": "82f5cb54-0836-4990-bf19-95a723158db8"
      },
      "execution_count": 120,
      "outputs": [
        {
          "output_type": "stream",
          "name": "stdout",
          "text": [
            "Found 651 validated image filenames belonging to 10 classes.\n",
            "Found 72 validated image filenames belonging to 10 classes.\n",
            "Found 199 validated image filenames belonging to 10 classes.\n"
          ]
        }
      ]
    },
    {
      "cell_type": "code",
      "source": [
        "CP = ModelCheckpoint(filepath=model_directory+'mobilenet-{epoch:03d}-{val_loss:.4f}-{val_acc:.4f}.hdf5',\n",
        "            monitor='val_acc', verbose=1, save_best_only=True, mode='max')\n",
        "TB = TensorBoard(log_dir=tensorboard_directory, write_graph=True, write_images=True)\n",
        "LR = ReduceLROnPlateau(monitor='val_loss',factor=0.8,patience=3, verbose=1, min_lr=1e-8)\n",
        "\n",
        "CALLBACK = [CP, TB, LR]"
      ],
      "metadata": {
        "id": "Kbhy2yX8BDHi"
      },
      "execution_count": 121,
      "outputs": []
    },
    {
      "cell_type": "code",
      "source": [
        "DeepLearning.fit(\n",
        "        TRAIN_GENERATOR,\n",
        "        steps_per_epoch=TRAIN_GENERATOR.n / batch_size,\n",
        "        epochs=50,\n",
        "        callbacks=CALLBACK,\n",
        "        shuffle=True, \n",
        "        validation_data=VALID_GENERATOR)"
      ],
      "metadata": {
        "colab": {
          "base_uri": "https://localhost:8080/"
        },
        "id": "08-Av3BUBDBC",
        "outputId": "6cd94399-057e-4b27-91c1-4371180b787f"
      },
      "execution_count": null,
      "outputs": [
        {
          "output_type": "stream",
          "name": "stdout",
          "text": [
            "Epoch 1/50\n",
            "21/20 [==============================] - ETA: 0s - loss: 1.7444 - acc: 0.4424\n",
            "Epoch 1: val_acc improved from -inf to 0.55556, saving model to /content/drive/MyDrive/Colab Notebooks/Mini_Projects/dataset/model/mobilenet-001-1.1626-0.5556.hdf5\n",
            "20/20 [==============================] - 31s 1s/step - loss: 1.7444 - acc: 0.4424 - val_loss: 1.1626 - val_acc: 0.5556 - lr: 0.0010\n",
            "Epoch 2/50\n",
            "21/20 [==============================] - ETA: 0s - loss: 0.5096 - acc: 0.9140\n",
            "Epoch 2: val_acc improved from 0.55556 to 0.81944, saving model to /content/drive/MyDrive/Colab Notebooks/Mini_Projects/dataset/model/mobilenet-002-0.6091-0.8194.hdf5\n",
            "20/20 [==============================] - 23s 1s/step - loss: 0.5096 - acc: 0.9140 - val_loss: 0.6091 - val_acc: 0.8194 - lr: 0.0010\n",
            "Epoch 3/50\n",
            "21/20 [==============================] - ETA: 0s - loss: 0.2054 - acc: 0.9631\n",
            "Epoch 3: val_acc improved from 0.81944 to 0.83333, saving model to /content/drive/MyDrive/Colab Notebooks/Mini_Projects/dataset/model/mobilenet-003-0.4786-0.8333.hdf5\n",
            "20/20 [==============================] - 23s 1s/step - loss: 0.2054 - acc: 0.9631 - val_loss: 0.4786 - val_acc: 0.8333 - lr: 0.0010\n",
            "Epoch 4/50\n",
            "21/20 [==============================] - ETA: 0s - loss: 0.1192 - acc: 0.9846\n",
            "Epoch 4: val_acc improved from 0.83333 to 0.93056, saving model to /content/drive/MyDrive/Colab Notebooks/Mini_Projects/dataset/model/mobilenet-004-0.4015-0.9306.hdf5\n",
            "20/20 [==============================] - 24s 1s/step - loss: 0.1192 - acc: 0.9846 - val_loss: 0.4015 - val_acc: 0.9306 - lr: 0.0010\n",
            "Epoch 5/50\n",
            "21/20 [==============================] - ETA: 0s - loss: 0.1027 - acc: 0.9846\n",
            "Epoch 5: val_acc did not improve from 0.93056\n",
            "20/20 [==============================] - 22s 1s/step - loss: 0.1027 - acc: 0.9846 - val_loss: 0.3519 - val_acc: 0.9028 - lr: 0.0010\n",
            "Epoch 6/50\n",
            "21/20 [==============================] - ETA: 0s - loss: 0.0780 - acc: 0.9923\n",
            "Epoch 6: val_acc did not improve from 0.93056\n",
            "20/20 [==============================] - 23s 1s/step - loss: 0.0780 - acc: 0.9923 - val_loss: 0.3723 - val_acc: 0.8472 - lr: 0.0010\n",
            "Epoch 7/50\n",
            "21/20 [==============================] - ETA: 0s - loss: 0.0549 - acc: 0.9954\n",
            "Epoch 7: val_acc did not improve from 0.93056\n",
            "20/20 [==============================] - 23s 1s/step - loss: 0.0549 - acc: 0.9954 - val_loss: 0.4141 - val_acc: 0.8889 - lr: 0.0010\n",
            "Epoch 8/50\n",
            "21/20 [==============================] - ETA: 0s - loss: 0.0411 - acc: 0.9969\n",
            "Epoch 8: val_acc did not improve from 0.93056\n",
            "20/20 [==============================] - 23s 1s/step - loss: 0.0411 - acc: 0.9969 - val_loss: 0.2741 - val_acc: 0.9167 - lr: 0.0010\n",
            "Epoch 9/50\n",
            "21/20 [==============================] - ETA: 0s - loss: 0.0390 - acc: 0.9954\n",
            "Epoch 9: val_acc improved from 0.93056 to 0.94444, saving model to /content/drive/MyDrive/Colab Notebooks/Mini_Projects/dataset/model/mobilenet-009-0.2440-0.9444.hdf5\n",
            "20/20 [==============================] - 24s 1s/step - loss: 0.0390 - acc: 0.9954 - val_loss: 0.2440 - val_acc: 0.9444 - lr: 0.0010\n",
            "Epoch 10/50\n",
            "21/20 [==============================] - ETA: 0s - loss: 0.0407 - acc: 0.9985\n",
            "Epoch 10: val_acc did not improve from 0.94444\n",
            "20/20 [==============================] - 23s 1s/step - loss: 0.0407 - acc: 0.9985 - val_loss: 0.3394 - val_acc: 0.8611 - lr: 0.0010\n",
            "Epoch 11/50\n",
            " 9/20 [============>.................] - ETA: 10s - loss: 0.0257 - acc: 1.0000"
          ]
        }
      ]
    },
    {
      "cell_type": "code",
      "source": [
        "DeepLearning.load_weights('/content/drive/MyDrive/Colab Notebooks/Mini_Projects/dataset/model/mobilenet-007-0.2495-0.9306.hdf5')\n"
      ],
      "metadata": {
        "id": "nvDxRLvRBJ4K"
      },
      "execution_count": null,
      "outputs": []
    },
    {
      "cell_type": "code",
      "source": [
        "TEST_Prediction = DeepLearning.predict_generator(TEST_GENERATOR, verbose=1)\n"
      ],
      "metadata": {
        "id": "Z9PkXKAwBJ27"
      },
      "execution_count": null,
      "outputs": []
    },
    {
      "cell_type": "code",
      "source": [
        "TEST_Prediction[0:5]"
      ],
      "metadata": {
        "id": "0Y3CYeeJnTkh"
      },
      "execution_count": null,
      "outputs": []
    },
    {
      "cell_type": "code",
      "source": [
        "TEST_Prediction.argmax(axis=1)"
      ],
      "metadata": {
        "id": "e5wzTk8in2kq"
      },
      "execution_count": null,
      "outputs": []
    },
    {
      "cell_type": "code",
      "source": [
        "Result = pd.DataFrame(TEST_Prediction)*100\n",
        "Result"
      ],
      "metadata": {
        "id": "EdIol5YHBJ0S"
      },
      "execution_count": null,
      "outputs": []
    },
    {
      "cell_type": "code",
      "source": [
        "Result[0:5]\n"
      ],
      "metadata": {
        "id": "KlsmtRx8BJyC"
      },
      "execution_count": null,
      "outputs": []
    },
    {
      "cell_type": "code",
      "source": [
        ""
      ],
      "metadata": {
        "id": "kjQM0fSHnGQ7"
      },
      "execution_count": null,
      "outputs": []
    },
    {
      "cell_type": "markdown",
      "source": [
        "#Submission file"
      ],
      "metadata": {
        "id": "lAVKFIKFllEr"
      }
    },
    {
      "cell_type": "code",
      "source": [
        "submission = pd.read_csv('/content/drive/MyDrive/Colab Notebooks/Mini_Projects/dataset/sample_submission.csv')\n",
        "submission "
      ],
      "metadata": {
        "id": "VdzZpfT1lGuw"
      },
      "execution_count": null,
      "outputs": []
    },
    {
      "cell_type": "code",
      "source": [
        "submission['label'] = TEST_Prediction.argmax(axis=1)"
      ],
      "metadata": {
        "id": "nozR-HNdmZEn"
      },
      "execution_count": null,
      "outputs": []
    },
    {
      "cell_type": "code",
      "source": [
        "submission.head()"
      ],
      "metadata": {
        "id": "_JhaB2-No2c8"
      },
      "execution_count": null,
      "outputs": []
    },
    {
      "cell_type": "code",
      "source": [
        "submission.to_csv('/content/drive/MyDrive/Colab Notebooks/Mini_Projects/dataset/submission/submission1.csv', index=False)\n"
      ],
      "metadata": {
        "id": "Vd35HwfHo54O"
      },
      "execution_count": null,
      "outputs": []
    },
    {
      "cell_type": "code",
      "source": [
        ""
      ],
      "metadata": {
        "id": "aS20tU86pgTI"
      },
      "execution_count": null,
      "outputs": []
    }
  ]
}